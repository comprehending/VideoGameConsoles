{
 "cells": [
  {
   "cell_type": "markdown",
   "metadata": {},
   "source": [
    "# <center><font color='#262626'>Sells video games all over the world</font></center>"
   ]
  },
  {
   "cell_type": "markdown",
   "metadata": {},
   "source": [
    "<center><img src=\"Joystick4.jpg\"></center>"
   ]
  },
  {
   "cell_type": "markdown",
   "metadata": {},
   "source": [
    "### Contents <a class=\"anchor\" id=\"contents\"></a>\n",
    "\n",
    "* [Project description](#Project_description)\n",
    "<p> </p> \n",
    "* [Part 1. General information](#Part_1)\n",
    "    * [Conclusion](#Conclusion_Part_1)\n",
    "<p> </p>     \n",
    "* [Part 2. Preparation the data](#Part_2)\n",
    "    * [Processing missing values](#Part2step1)\n",
    "    * [Processing duplicates](#Part2step2)\n",
    "    * [Conclusion](#Conclusion_Part_2)\n",
    "<p> </p>    \n",
    "* [Part 3. Exploratory Analysis](#Part_3)\n",
    "    * [Conclusion](#Conclusion_Part_3)\n",
    "<p> </p>    \n",
    "* [Part 4. Test Hypotesis](#Part_4)\n",
    "    * [Conclusion](#Conclusion_Part_4)\n",
    "<p> </p>     \n",
    "* [General Conclusion](#General_Conclusion)"
   ]
  },
  {
   "cell_type": "markdown",
   "metadata": {},
   "source": [
    "## Project description <a class=\"anchor\" id=\"Project_description\"></a>\n",
    "\n",
    "You work for the online store Ice, which sells video games all over the world. User and expert reviews, genres, platforms (e.g. Xbox or PlayStation), and historical data on game sales are available from open sources. You need to identify patterns that determine whether a game succeeds or not. This will allow you to spot potential big winners and plan advertising campaigns.<br>"
   ]
  },
  {
   "cell_type": "markdown",
   "metadata": {},
   "source": [
    "## Part 1. General information<a class=\"anchor\" id=\"Part_1\"></a>\n",
    "[Go back to the Contents](#contents)\n",
    "\n",
    "Let's load the libraries required for data manipulation and analysis."
   ]
  },
  {
   "cell_type": "code",
   "execution_count": 1,
   "metadata": {},
   "outputs": [],
   "source": [
    "#import packages for data manipulations\n",
    "import pandas as pd\n",
    "import numpy as np\n",
    "#library of statistical functions\n",
    "from scipy import stats as st\n",
    "#import packages for data plotting\n",
    "import matplotlib.pyplot as plt\n",
    "import seaborn as sns"
   ]
  },
  {
   "cell_type": "markdown",
   "metadata": {},
   "source": [
    "The first step here is looking at the content of the data file."
   ]
  },
  {
   "cell_type": "code",
   "execution_count": 2,
   "metadata": {},
   "outputs": [],
   "source": [
    "#source of the data:\n",
    "data = pd.read_csv(\"games.csv\")"
   ]
  },
  {
   "cell_type": "code",
   "execution_count": 3,
   "metadata": {},
   "outputs": [
    {
     "name": "stdout",
     "output_type": "stream",
     "text": [
      "<class 'pandas.core.frame.DataFrame'>\n",
      "RangeIndex: 16715 entries, 0 to 16714\n",
      "Data columns (total 11 columns):\n",
      " #   Column           Non-Null Count  Dtype  \n",
      "---  ------           --------------  -----  \n",
      " 0   Name             16713 non-null  object \n",
      " 1   Platform         16715 non-null  object \n",
      " 2   Year_of_Release  16446 non-null  float64\n",
      " 3   Genre            16713 non-null  object \n",
      " 4   NA_sales         16715 non-null  float64\n",
      " 5   EU_sales         16715 non-null  float64\n",
      " 6   JP_sales         16715 non-null  float64\n",
      " 7   Other_sales      16715 non-null  float64\n",
      " 8   Critic_Score     8137 non-null   float64\n",
      " 9   User_Score       10014 non-null  object \n",
      " 10  Rating           9949 non-null   object \n",
      "dtypes: float64(6), object(5)\n",
      "memory usage: 1.4+ MB\n"
     ]
    }
   ],
   "source": [
    "#structure of the dataset\n",
    "data.info()"
   ]
  },
  {
   "cell_type": "markdown",
   "metadata": {},
   "source": [
    "Each entry in the file contains data about the game that is released on the platforms, its sales and ratings.\n",
    "\n",
    "The data file contains 16715 rows and 11 columns of properties.<br>\n",
    "The values in the Non-Null Count column indicate that there are missing values in the Name, Year_of_Release, Genre, Critic_Score, User_Score, and Rating columns.\n",
    "\n",
    "**Data description.**\n",
    "- **Name** - name of game\n",
    "- **Platform** - game platforms and consoles\n",
    "- **Year_of_Release** - year the game was released\n",
    "- **Genre** - genre of game\n",
    "- **NA_sales** - North American sales \n",
    "- **EU_sales** - sales in Europe\n",
    "- **JP_sales** - sales in Japan\n",
    "- **Other_sales** - sales in other countries\n",
    "- **Critic_Score** - maximum score is 100\n",
    "- **User_Score** - maximum score is 10\n",
    "- **Rating** - score by ESRB\n",
    "\n",
    "The dataset contains the abbreviation ESRB. The Entertainment Software Rating Board evaluates a game's content and assigns an age rating such as Teen or Mature.<br>\n",
    "The sales fields are in millions of dollars.<br>\n",
    "By definition, we have the wrong data type in the Year_of_Release column."
   ]
  },
  {
   "cell_type": "code",
   "execution_count": 4,
   "metadata": {},
   "outputs": [
    {
     "data": {
      "text/html": [
       "<div>\n",
       "<style scoped>\n",
       "    .dataframe tbody tr th:only-of-type {\n",
       "        vertical-align: middle;\n",
       "    }\n",
       "\n",
       "    .dataframe tbody tr th {\n",
       "        vertical-align: top;\n",
       "    }\n",
       "\n",
       "    .dataframe thead th {\n",
       "        text-align: right;\n",
       "    }\n",
       "</style>\n",
       "<table border=\"1\" class=\"dataframe\">\n",
       "  <thead>\n",
       "    <tr style=\"text-align: right;\">\n",
       "      <th></th>\n",
       "      <th>Name</th>\n",
       "      <th>Platform</th>\n",
       "      <th>Year_of_Release</th>\n",
       "      <th>Genre</th>\n",
       "      <th>NA_sales</th>\n",
       "      <th>EU_sales</th>\n",
       "      <th>JP_sales</th>\n",
       "      <th>Other_sales</th>\n",
       "      <th>Critic_Score</th>\n",
       "      <th>User_Score</th>\n",
       "      <th>Rating</th>\n",
       "    </tr>\n",
       "  </thead>\n",
       "  <tbody>\n",
       "    <tr>\n",
       "      <th>12503</th>\n",
       "      <td>The Next BIG Thing</td>\n",
       "      <td>PC</td>\n",
       "      <td>2011.0</td>\n",
       "      <td>Adventure</td>\n",
       "      <td>0.00</td>\n",
       "      <td>0.05</td>\n",
       "      <td>0.00</td>\n",
       "      <td>0.01</td>\n",
       "      <td>75.0</td>\n",
       "      <td>7.9</td>\n",
       "      <td>E10+</td>\n",
       "    </tr>\n",
       "    <tr>\n",
       "      <th>14591</th>\n",
       "      <td>Hot Pixel</td>\n",
       "      <td>PSP</td>\n",
       "      <td>2007.0</td>\n",
       "      <td>Puzzle</td>\n",
       "      <td>0.03</td>\n",
       "      <td>0.00</td>\n",
       "      <td>0.00</td>\n",
       "      <td>0.00</td>\n",
       "      <td>55.0</td>\n",
       "      <td>6.5</td>\n",
       "      <td>T</td>\n",
       "    </tr>\n",
       "    <tr>\n",
       "      <th>9952</th>\n",
       "      <td>Power Pro Kun Pocket 14</td>\n",
       "      <td>DS</td>\n",
       "      <td>2011.0</td>\n",
       "      <td>Sports</td>\n",
       "      <td>0.00</td>\n",
       "      <td>0.00</td>\n",
       "      <td>0.12</td>\n",
       "      <td>0.00</td>\n",
       "      <td>NaN</td>\n",
       "      <td>NaN</td>\n",
       "      <td>NaN</td>\n",
       "    </tr>\n",
       "    <tr>\n",
       "      <th>15485</th>\n",
       "      <td>XGRA: Extreme G Racing Association</td>\n",
       "      <td>XB</td>\n",
       "      <td>2003.0</td>\n",
       "      <td>Racing</td>\n",
       "      <td>0.02</td>\n",
       "      <td>0.00</td>\n",
       "      <td>0.00</td>\n",
       "      <td>0.00</td>\n",
       "      <td>66.0</td>\n",
       "      <td>6.8</td>\n",
       "      <td>T</td>\n",
       "    </tr>\n",
       "    <tr>\n",
       "      <th>16425</th>\n",
       "      <td>Ultraman Fighting Evolution 3</td>\n",
       "      <td>PS2</td>\n",
       "      <td>2004.0</td>\n",
       "      <td>Fighting</td>\n",
       "      <td>0.00</td>\n",
       "      <td>0.00</td>\n",
       "      <td>0.01</td>\n",
       "      <td>0.00</td>\n",
       "      <td>NaN</td>\n",
       "      <td>NaN</td>\n",
       "      <td>NaN</td>\n",
       "    </tr>\n",
       "  </tbody>\n",
       "</table>\n",
       "</div>"
      ],
      "text/plain": [
       "                                     Name Platform  Year_of_Release  \\\n",
       "12503                  The Next BIG Thing       PC           2011.0   \n",
       "14591                           Hot Pixel      PSP           2007.0   \n",
       "9952              Power Pro Kun Pocket 14       DS           2011.0   \n",
       "15485  XGRA: Extreme G Racing Association       XB           2003.0   \n",
       "16425       Ultraman Fighting Evolution 3      PS2           2004.0   \n",
       "\n",
       "           Genre  NA_sales  EU_sales  JP_sales  Other_sales  Critic_Score  \\\n",
       "12503  Adventure      0.00      0.05      0.00         0.01          75.0   \n",
       "14591     Puzzle      0.03      0.00      0.00         0.00          55.0   \n",
       "9952      Sports      0.00      0.00      0.12         0.00           NaN   \n",
       "15485     Racing      0.02      0.00      0.00         0.00          66.0   \n",
       "16425   Fighting      0.00      0.00      0.01         0.00           NaN   \n",
       "\n",
       "      User_Score Rating  \n",
       "12503        7.9   E10+  \n",
       "14591        6.5      T  \n",
       "9952         NaN    NaN  \n",
       "15485        6.8      T  \n",
       "16425        NaN    NaN  "
      ]
     },
     "execution_count": 4,
     "metadata": {},
     "output_type": "execute_result"
    }
   ],
   "source": [
    "#10 rows for quickly testing dataset\n",
    "data.sample(5)"
   ]
  },
  {
   "cell_type": "markdown",
   "metadata": {},
   "source": [
    "At first glance, the User_Score column should be a float. We will transform it below."
   ]
  },
  {
   "cell_type": "markdown",
   "metadata": {},
   "source": [
    "## Conclusion<a class=\"anchor\" id=\"Conclusion_Part_1\"></a>\n",
    "\n",
    "The file contains historical data on sales of games released on various platforms and consoles. Therefore, data collected from open sources may be incomplete and contain anomalies.\n",
    "\n",
    "However, the dataset is large enough, let's hope that the data is well distributed and does not contain intractable anomalies."
   ]
  },
  {
   "cell_type": "markdown",
   "metadata": {},
   "source": [
    "## Part 2. Preparation the data <a class=\"anchor\" id=\"Part_2\"></a>\n",
    "[Go back to the Contents](#contents)\n",
    "\n",
    "Let's take a deeper look at the dataset."
   ]
  },
  {
   "cell_type": "code",
   "execution_count": 5,
   "metadata": {},
   "outputs": [],
   "source": [
    "#convert the field names to lowercase\n",
    "data.columns = data.columns.str.lower()"
   ]
  },
  {
   "cell_type": "markdown",
   "metadata": {},
   "source": [
    "Let's go through the fields and get rid of the missing values.\n",
    "\n",
    "Each entry is a release of the game on the platform and sales revenue.<br>\n",
    "Therefore, first of all, let's check values in the fields related by meaning:<br>\n",
    "*Name, Platform, Year of Release, Genre*<br>"
   ]
  },
  {
   "cell_type": "markdown",
   "metadata": {},
   "source": [
    "    Name             16713 non-null  object \n",
    "    Platform         16715 non-null  object \n",
    "    Year_of_Release  16446 non-null  float64\n",
    "    Genre            16713 non-null  object \n",
    "    \n",
    "Perhaps the dataset has duplicates for these values."
   ]
  },
  {
   "cell_type": "code",
   "execution_count": 6,
   "metadata": {},
   "outputs": [
    {
     "data": {
      "text/html": [
       "<div>\n",
       "<style scoped>\n",
       "    .dataframe tbody tr th:only-of-type {\n",
       "        vertical-align: middle;\n",
       "    }\n",
       "\n",
       "    .dataframe tbody tr th {\n",
       "        vertical-align: top;\n",
       "    }\n",
       "\n",
       "    .dataframe thead th {\n",
       "        text-align: right;\n",
       "    }\n",
       "</style>\n",
       "<table border=\"1\" class=\"dataframe\">\n",
       "  <thead>\n",
       "    <tr style=\"text-align: right;\">\n",
       "      <th></th>\n",
       "      <th>name</th>\n",
       "      <th>platform</th>\n",
       "      <th>year_of_release</th>\n",
       "      <th>genre</th>\n",
       "      <th>na_sales</th>\n",
       "      <th>eu_sales</th>\n",
       "      <th>jp_sales</th>\n",
       "      <th>other_sales</th>\n",
       "      <th>critic_score</th>\n",
       "      <th>user_score</th>\n",
       "      <th>rating</th>\n",
       "    </tr>\n",
       "  </thead>\n",
       "  <tbody>\n",
       "    <tr>\n",
       "      <th>14244</th>\n",
       "      <td>NaN</td>\n",
       "      <td>GEN</td>\n",
       "      <td>1993.0</td>\n",
       "      <td>NaN</td>\n",
       "      <td>0.0</td>\n",
       "      <td>0.00</td>\n",
       "      <td>0.03</td>\n",
       "      <td>0.0</td>\n",
       "      <td>NaN</td>\n",
       "      <td>NaN</td>\n",
       "      <td>NaN</td>\n",
       "    </tr>\n",
       "    <tr>\n",
       "      <th>16230</th>\n",
       "      <td>Madden NFL 13</td>\n",
       "      <td>PS3</td>\n",
       "      <td>2012.0</td>\n",
       "      <td>Sports</td>\n",
       "      <td>0.0</td>\n",
       "      <td>0.01</td>\n",
       "      <td>0.00</td>\n",
       "      <td>0.0</td>\n",
       "      <td>83.0</td>\n",
       "      <td>5.5</td>\n",
       "      <td>E</td>\n",
       "    </tr>\n",
       "  </tbody>\n",
       "</table>\n",
       "</div>"
      ],
      "text/plain": [
       "                name platform  year_of_release   genre  na_sales  eu_sales  \\\n",
       "14244            NaN      GEN           1993.0     NaN       0.0      0.00   \n",
       "16230  Madden NFL 13      PS3           2012.0  Sports       0.0      0.01   \n",
       "\n",
       "       jp_sales  other_sales  critic_score user_score rating  \n",
       "14244      0.03          0.0           NaN        NaN    NaN  \n",
       "16230      0.00          0.0          83.0        5.5      E  "
      ]
     },
     "execution_count": 6,
     "metadata": {},
     "output_type": "execute_result"
    }
   ],
   "source": [
    "#find duplicates\n",
    "data[data.loc[:,['name','platform','year_of_release']].duplicated()]"
   ]
  },
  {
   "cell_type": "markdown",
   "metadata": {},
   "source": [
    "We found duplicates and missing values at the same time.<br>\n",
    "Let's remove duplicates and replace missing values for the console GEN. Since we do not know the name of the game and the genre, we will put the most common value by this platform in the Genre field, and replace the name of the game with the name of the platform."
   ]
  },
  {
   "cell_type": "code",
   "execution_count": 7,
   "metadata": {},
   "outputs": [],
   "source": [
    "#delete duplicates\n",
    "data.drop_duplicates(subset=['name','platform','year_of_release'], inplace=True, keep='first')\n",
    "#replace a missing value in Name\n",
    "data.name.fillna(data['platform'], inplace= True)\n",
    "#replace a missing value in Genre\n",
    "data.genre.fillna('Platform', inplace= True)"
   ]
  },
  {
   "cell_type": "code",
   "execution_count": 8,
   "metadata": {},
   "outputs": [
    {
     "data": {
      "text/html": [
       "<div>\n",
       "<style scoped>\n",
       "    .dataframe tbody tr th:only-of-type {\n",
       "        vertical-align: middle;\n",
       "    }\n",
       "\n",
       "    .dataframe tbody tr th {\n",
       "        vertical-align: top;\n",
       "    }\n",
       "\n",
       "    .dataframe thead th {\n",
       "        text-align: right;\n",
       "    }\n",
       "</style>\n",
       "<table border=\"1\" class=\"dataframe\">\n",
       "  <thead>\n",
       "    <tr style=\"text-align: right;\">\n",
       "      <th></th>\n",
       "      <th>name</th>\n",
       "      <th>platform</th>\n",
       "      <th>genre</th>\n",
       "      <th>user_score</th>\n",
       "      <th>rating</th>\n",
       "    </tr>\n",
       "  </thead>\n",
       "  <tbody>\n",
       "    <tr>\n",
       "      <th>count</th>\n",
       "      <td>16713</td>\n",
       "      <td>16713</td>\n",
       "      <td>16713</td>\n",
       "      <td>10013</td>\n",
       "      <td>9948</td>\n",
       "    </tr>\n",
       "    <tr>\n",
       "      <th>unique</th>\n",
       "      <td>11560</td>\n",
       "      <td>31</td>\n",
       "      <td>12</td>\n",
       "      <td>96</td>\n",
       "      <td>8</td>\n",
       "    </tr>\n",
       "    <tr>\n",
       "      <th>top</th>\n",
       "      <td>Need for Speed: Most Wanted</td>\n",
       "      <td>PS2</td>\n",
       "      <td>Action</td>\n",
       "      <td>tbd</td>\n",
       "      <td>E</td>\n",
       "    </tr>\n",
       "    <tr>\n",
       "      <th>freq</th>\n",
       "      <td>12</td>\n",
       "      <td>2161</td>\n",
       "      <td>3369</td>\n",
       "      <td>2424</td>\n",
       "      <td>3989</td>\n",
       "    </tr>\n",
       "  </tbody>\n",
       "</table>\n",
       "</div>"
      ],
      "text/plain": [
       "                               name platform   genre user_score rating\n",
       "count                         16713    16713   16713      10013   9948\n",
       "unique                        11560       31      12         96      8\n",
       "top     Need for Speed: Most Wanted      PS2  Action        tbd      E\n",
       "freq                             12     2161    3369       2424   3989"
      ]
     },
     "execution_count": 8,
     "metadata": {},
     "output_type": "execute_result"
    }
   ],
   "source": [
    "#categorical values\n",
    "data.describe(include=['object'])"
   ]
  },
  {
   "cell_type": "markdown",
   "metadata": {},
   "source": [
    "Now there are 16713 records in the dataset.<br>\n",
    "In statistics for categorical variables, we see the User_score field. In addition to the missing data, we can see that most of the records are filled with \"tbd\", which means \"to be determined\". Let's explore it.\n",
    "\n",
    "The data in this field must be float, but we cannot convert it because of the \"tbd\" values. Therefore, we will create a new field where we will transfer all the numerical values."
   ]
  },
  {
   "cell_type": "code",
   "execution_count": 9,
   "metadata": {},
   "outputs": [],
   "source": [
    "#create new column n_user_score float type\n",
    "data['n_user_score']= data.loc[((data['user_score']!='tbd')&(data['user_score'].isnull()==False))]['user_score']\n",
    "data['n_user_score']= data['n_user_score'].astype('float')"
   ]
  },
  {
   "cell_type": "code",
   "execution_count": 10,
   "metadata": {},
   "outputs": [
    {
     "data": {
      "text/html": [
       "<div>\n",
       "<style scoped>\n",
       "    .dataframe tbody tr th:only-of-type {\n",
       "        vertical-align: middle;\n",
       "    }\n",
       "\n",
       "    .dataframe tbody tr th {\n",
       "        vertical-align: top;\n",
       "    }\n",
       "\n",
       "    .dataframe thead th {\n",
       "        text-align: right;\n",
       "    }\n",
       "</style>\n",
       "<table border=\"1\" class=\"dataframe\">\n",
       "  <thead>\n",
       "    <tr style=\"text-align: right;\">\n",
       "      <th></th>\n",
       "      <th>year_of_release</th>\n",
       "      <th>na_sales</th>\n",
       "      <th>eu_sales</th>\n",
       "      <th>jp_sales</th>\n",
       "      <th>other_sales</th>\n",
       "      <th>critic_score</th>\n",
       "      <th>n_user_score</th>\n",
       "    </tr>\n",
       "  </thead>\n",
       "  <tbody>\n",
       "    <tr>\n",
       "      <th>count</th>\n",
       "      <td>16444.000000</td>\n",
       "      <td>16713.000000</td>\n",
       "      <td>16713.000000</td>\n",
       "      <td>16713.000000</td>\n",
       "      <td>16713.000000</td>\n",
       "      <td>8136.000000</td>\n",
       "      <td>7589.000000</td>\n",
       "    </tr>\n",
       "    <tr>\n",
       "      <th>mean</th>\n",
       "      <td>2006.485101</td>\n",
       "      <td>0.263409</td>\n",
       "      <td>0.145076</td>\n",
       "      <td>0.077625</td>\n",
       "      <td>0.047348</td>\n",
       "      <td>68.965954</td>\n",
       "      <td>7.125260</td>\n",
       "    </tr>\n",
       "    <tr>\n",
       "      <th>std</th>\n",
       "      <td>5.876309</td>\n",
       "      <td>0.813647</td>\n",
       "      <td>0.503366</td>\n",
       "      <td>0.308871</td>\n",
       "      <td>0.186741</td>\n",
       "      <td>13.938153</td>\n",
       "      <td>1.499989</td>\n",
       "    </tr>\n",
       "    <tr>\n",
       "      <th>min</th>\n",
       "      <td>1980.000000</td>\n",
       "      <td>0.000000</td>\n",
       "      <td>0.000000</td>\n",
       "      <td>0.000000</td>\n",
       "      <td>0.000000</td>\n",
       "      <td>13.000000</td>\n",
       "      <td>0.000000</td>\n",
       "    </tr>\n",
       "    <tr>\n",
       "      <th>25%</th>\n",
       "      <td>2003.000000</td>\n",
       "      <td>0.000000</td>\n",
       "      <td>0.000000</td>\n",
       "      <td>0.000000</td>\n",
       "      <td>0.000000</td>\n",
       "      <td>60.000000</td>\n",
       "      <td>6.400000</td>\n",
       "    </tr>\n",
       "    <tr>\n",
       "      <th>50%</th>\n",
       "      <td>2007.000000</td>\n",
       "      <td>0.080000</td>\n",
       "      <td>0.020000</td>\n",
       "      <td>0.000000</td>\n",
       "      <td>0.010000</td>\n",
       "      <td>71.000000</td>\n",
       "      <td>7.500000</td>\n",
       "    </tr>\n",
       "    <tr>\n",
       "      <th>75%</th>\n",
       "      <td>2010.000000</td>\n",
       "      <td>0.240000</td>\n",
       "      <td>0.110000</td>\n",
       "      <td>0.040000</td>\n",
       "      <td>0.030000</td>\n",
       "      <td>79.000000</td>\n",
       "      <td>8.200000</td>\n",
       "    </tr>\n",
       "    <tr>\n",
       "      <th>max</th>\n",
       "      <td>2016.000000</td>\n",
       "      <td>41.360000</td>\n",
       "      <td>28.960000</td>\n",
       "      <td>10.220000</td>\n",
       "      <td>10.570000</td>\n",
       "      <td>98.000000</td>\n",
       "      <td>9.700000</td>\n",
       "    </tr>\n",
       "  </tbody>\n",
       "</table>\n",
       "</div>"
      ],
      "text/plain": [
       "       year_of_release      na_sales      eu_sales      jp_sales  \\\n",
       "count     16444.000000  16713.000000  16713.000000  16713.000000   \n",
       "mean       2006.485101      0.263409      0.145076      0.077625   \n",
       "std           5.876309      0.813647      0.503366      0.308871   \n",
       "min        1980.000000      0.000000      0.000000      0.000000   \n",
       "25%        2003.000000      0.000000      0.000000      0.000000   \n",
       "50%        2007.000000      0.080000      0.020000      0.000000   \n",
       "75%        2010.000000      0.240000      0.110000      0.040000   \n",
       "max        2016.000000     41.360000     28.960000     10.220000   \n",
       "\n",
       "        other_sales  critic_score  n_user_score  \n",
       "count  16713.000000   8136.000000   7589.000000  \n",
       "mean       0.047348     68.965954      7.125260  \n",
       "std        0.186741     13.938153      1.499989  \n",
       "min        0.000000     13.000000      0.000000  \n",
       "25%        0.000000     60.000000      6.400000  \n",
       "50%        0.010000     71.000000      7.500000  \n",
       "75%        0.030000     79.000000      8.200000  \n",
       "max       10.570000     98.000000      9.700000  "
      ]
     },
     "execution_count": 10,
     "metadata": {},
     "output_type": "execute_result"
    }
   ],
   "source": [
    "#basic statistical details\n",
    "data.describe()"
   ]
  },
  {
   "cell_type": "markdown",
   "metadata": {},
   "source": [
    "As we can see, the new field n_user_scores contains about 55% of missing values and the minimum value is 0, which is also an anomaly.<br>\n",
    "We will use the same methods for filling, so we will replace 0 with Nan."
   ]
  },
  {
   "cell_type": "code",
   "execution_count": 11,
   "metadata": {},
   "outputs": [],
   "source": [
    "#replace 0 value to Nan\n",
    "data.loc[(data['n_user_score']==0),'n_user_score'] = np.nan"
   ]
  },
  {
   "cell_type": "markdown",
   "metadata": {},
   "source": [
    "Let's look at the games with the same name on other platforms and take the missing values from this group."
   ]
  },
  {
   "cell_type": "code",
   "execution_count": 12,
   "metadata": {},
   "outputs": [],
   "source": [
    "def get_missing_byname(row, v_field, v_agg):\n",
    "    #the function returns a value from a group by name\n",
    "    new_val= (data\n",
    "              .loc[((data['name']==row['name'])& data[v_field].notnull())]\n",
    "              .groupby('name')\n",
    "              .agg({v_field : v_agg})\n",
    "              )[v_field]\n",
    "    \n",
    "    if len(new_val)==0 : #if there's no value by group\n",
    "        return np.nan\n",
    "    else:\n",
    "        return new_val.values[0]"
   ]
  },
  {
   "cell_type": "code",
   "execution_count": 13,
   "metadata": {},
   "outputs": [],
   "source": [
    "#dataset with missing values\n",
    "df= data.loc[(data['n_user_score'].isnull()==True)][['name']]\n",
    "\n",
    "#user_score\n",
    "df['n_user_score']= df.apply(lambda x: get_missing_byname(x, 'n_user_score', 'mean'), axis=1)\n",
    "#update original dataset\n",
    "data.update(df['n_user_score'])"
   ]
  },
  {
   "cell_type": "code",
   "execution_count": 14,
   "metadata": {},
   "outputs": [],
   "source": [
    "def get_num_missing(v_field):\n",
    "    #check a number of missing values in the column\n",
    "    ratio= data[v_field].isnull().sum() / data.shape[0]\n",
    "    return print(v_field +': Percentage of missing values: {:.1%}'.format(ratio))"
   ]
  },
  {
   "cell_type": "code",
   "execution_count": 15,
   "metadata": {},
   "outputs": [
    {
     "name": "stdout",
     "output_type": "stream",
     "text": [
      "n_user_score: Percentage of missing values: 48.0%\n"
     ]
    }
   ],
   "source": [
    "get_num_missing('n_user_score')"
   ]
  },
  {
   "cell_type": "markdown",
   "metadata": {},
   "source": [
    "48% of missing values are still a lot. Fill in the remaining values with the average, grouping the data by platform and genre."
   ]
  },
  {
   "cell_type": "markdown",
   "metadata": {},
   "source": [
    "<div class=\"alert alert-warning\" role=\"alert\">\n",
    "There's one alternative way, which is based on the assumption, that games with a certain user score have a mostly similar  critics score (you can check the correlations to see whether it's actually true or not). In order to make it more simple, you can normalize critic score to 0-10 scale instead of 0-100. And then you can just pick a certain game -- for example it misses critics score and you want to recover it by user score -- you look for games with similar user score (plus/minus 0.5 points) -- get an array of such games and then just simply take median value for critics score. Same goes for user score. \n",
    "<br>\n",
    "</div>"
   ]
  },
  {
   "cell_type": "code",
   "execution_count": 16,
   "metadata": {},
   "outputs": [],
   "source": [
    "def get_missing_by_platfgenre(row, v_field, v_agg):\n",
    "    #the function returns a value from a group by platform and genre\n",
    "    new_val= (data\n",
    "             .loc[((data['platform']==row['platform'])&(data['genre']==row['genre'])\n",
    "                  & data[v_field].notnull())]\n",
    "             .groupby(['platform','genre'])\n",
    "             .agg({v_field : v_agg})\n",
    "             )[v_field]\n",
    "    if len(new_val)==0 :  #if there's no value by group\n",
    "        return np.nan\n",
    "    else:\n",
    "        return new_val.values[0]"
   ]
  },
  {
   "cell_type": "markdown",
   "metadata": {},
   "source": [
    "Filling in missing \"user score\" values grouped by platform and genre."
   ]
  },
  {
   "cell_type": "code",
   "execution_count": 17,
   "metadata": {},
   "outputs": [
    {
     "name": "stdout",
     "output_type": "stream",
     "text": [
      "n_user_score: Percentage of missing values: 2.5%\n"
     ]
    }
   ],
   "source": [
    "#dataset with missing values\n",
    "df= data.loc[(data['n_user_score'].isnull()== True)][['platform','genre']]\n",
    "#user_score\n",
    "df['n_user_score']= df.apply(lambda x: get_missing_by_platfgenre(x, 'n_user_score', 'mean'), axis=1)\n",
    "#update original dataset\n",
    "data.update(df['n_user_score'], overwrite=False)\n",
    "\n",
    "#check a number of missing values in the column\n",
    "get_num_missing('n_user_score')"
   ]
  },
  {
   "cell_type": "markdown",
   "metadata": {},
   "source": [
    "The remaining 2.5% will be excluded from the ratings statistics, because filling in the missing values for other criteria, for example, the mean score for the platform, will add uncertainty to the data."
   ]
  },
  {
   "cell_type": "code",
   "execution_count": 18,
   "metadata": {},
   "outputs": [],
   "source": [
    "data['n_user_score'].fillna(0, inplace=True)"
   ]
  },
  {
   "cell_type": "markdown",
   "metadata": {},
   "source": [
    "Filling in missing \"critics score\" values grouped by name."
   ]
  },
  {
   "cell_type": "code",
   "execution_count": 19,
   "metadata": {},
   "outputs": [],
   "source": [
    "#dataset with missing values\n",
    "df= data.loc[(data['critic_score'].isnull()==True)][['name']]\n",
    "\n",
    "#critic_score\n",
    "df['critic_score']= df.apply(lambda x: get_missing_byname(x, 'critic_score', 'mean'), axis=1)\n",
    "#update original dataset\n",
    "data.update(df['critic_score'], overwrite=False)"
   ]
  },
  {
   "cell_type": "markdown",
   "metadata": {},
   "source": [
    "Filling in missing \"critics score\" values grouped by platform and genre."
   ]
  },
  {
   "cell_type": "code",
   "execution_count": 20,
   "metadata": {},
   "outputs": [
    {
     "name": "stdout",
     "output_type": "stream",
     "text": [
      "critic_score: Percentage of missing values: 2.3%\n"
     ]
    }
   ],
   "source": [
    "#dataset with missing values\n",
    "df= data.loc[(data['critic_score'].isnull()==True)][['platform','genre']]\n",
    "\n",
    "#critic_score\n",
    "df['critic_score']= df.apply(lambda x: get_missing_by_platfgenre(x, 'critic_score', 'mean'), axis=1)\n",
    "#update original dataset\n",
    "data.update(round(df['critic_score']), overwrite=False)\n",
    "\n",
    "#check a number of missing values in the column\n",
    "get_num_missing('critic_score')"
   ]
  },
  {
   "cell_type": "markdown",
   "metadata": {},
   "source": [
    "The remaining 2.3% will be excluded from the ratings statistics on the same reason like User Score."
   ]
  },
  {
   "cell_type": "code",
   "execution_count": 21,
   "metadata": {},
   "outputs": [],
   "source": [
    "data['critic_score'].fillna(0, inplace=True)"
   ]
  },
  {
   "cell_type": "markdown",
   "metadata": {},
   "source": [
    "Sometime the game is released on all consoles in the same year, which means we can also take the missed release year of the game from other platforms."
   ]
  },
  {
   "cell_type": "code",
   "execution_count": 22,
   "metadata": {},
   "outputs": [],
   "source": [
    "def get_missing_year(row, v_field, v_agg):\n",
    "    #the function returns a value from a group by name and year_of_release\n",
    "    new_val= (data\n",
    "              .loc[((data['name']==row['name'])& data[v_field].notnull())]\n",
    "              .groupby(['name','year_of_release'])\n",
    "              .agg({v_field : v_agg})\n",
    "              )[v_field]\n",
    "    \n",
    "    if len(new_val)== 1 :  #if there's 1 value by group\n",
    "        return new_val.values[0]\n",
    "    else: \n",
    "        return np.nan"
   ]
  },
  {
   "cell_type": "code",
   "execution_count": 23,
   "metadata": {},
   "outputs": [],
   "source": [
    "#year_of_release\n",
    "#dataset with missing values\n",
    "df= data.loc[(data['year_of_release'].isnull()==True)][['name']]\n",
    "#year_of_release\n",
    "df['year_of_release']= df.apply(lambda x: get_missing_year(x, 'year_of_release', 'first'), axis=1)\n",
    "#update original dataset\n",
    "data.update(df['year_of_release'], overwrite=False)"
   ]
  },
  {
   "cell_type": "markdown",
   "metadata": {},
   "source": [
    "In some games, the release year is indicated in the name. Let's take it from there to fill in the missing values."
   ]
  },
  {
   "cell_type": "code",
   "execution_count": 24,
   "metadata": {},
   "outputs": [
    {
     "name": "stdout",
     "output_type": "stream",
     "text": [
      "year_of_release: Percentage of missing values: 0.9%\n"
     ]
    }
   ],
   "source": [
    "def get_digits2(text):\n",
    "    return ''.join(filter(lambda x: x.isdigit(), text))\n",
    "\n",
    "df = data[data['year_of_release'].isnull()==True]['name'].apply(lambda x: get_digits2(x))\n",
    "data['year_of_release'].update(df[df.apply(lambda x: len(x)==4)])\n",
    "\n",
    "#check a number of missing values in the column\n",
    "get_num_missing('year_of_release')"
   ]
  },
  {
   "cell_type": "markdown",
   "metadata": {},
   "source": [
    "Filling in the rating according to the rating of this game from other platforms."
   ]
  },
  {
   "cell_type": "code",
   "execution_count": 25,
   "metadata": {},
   "outputs": [
    {
     "name": "stdout",
     "output_type": "stream",
     "text": [
      "rating: Percentage of missing values: 37.9%\n"
     ]
    }
   ],
   "source": [
    "#rating\n",
    "#dataset with missing values\n",
    "df= data.loc[(data['rating'].isnull()==True)][['name']]\n",
    "#rating\n",
    "df['rating']= df.apply(lambda x: get_missing_byname(x, 'rating', 'first'), axis=1)\n",
    "#update original dataset\n",
    "data.update(df['rating'])\n",
    "\n",
    "#check a number of missing values in the column\n",
    "get_num_missing('rating')"
   ]
  },
  {
   "cell_type": "markdown",
   "metadata": {},
   "source": [
    "Let's take the most common rating."
   ]
  },
  {
   "cell_type": "code",
   "execution_count": 26,
   "metadata": {},
   "outputs": [
    {
     "data": {
      "text/plain": [
       "E       4150\n",
       "T       3094\n",
       "M       1653\n",
       "E10+    1470\n",
       "EC        10\n",
       "K-A        4\n",
       "RP         3\n",
       "AO         1\n",
       "Name: rating, dtype: int64"
      ]
     },
     "execution_count": 26,
     "metadata": {},
     "output_type": "execute_result"
    }
   ],
   "source": [
    "data['rating'].value_counts()"
   ]
  },
  {
   "cell_type": "code",
   "execution_count": 27,
   "metadata": {},
   "outputs": [],
   "source": [
    "data['rating'].fillna('E', inplace=True)"
   ]
  },
  {
   "cell_type": "markdown",
   "metadata": {},
   "source": [
    "'E' is a label 'Everyone' by The Entertainment Software Rating Board.\n",
    "\n",
    "The dataset has multiple records without any sales or ratings information. Let's delete them as anomalous."
   ]
  },
  {
   "cell_type": "code",
   "execution_count": 28,
   "metadata": {},
   "outputs": [],
   "source": [
    "#no sales\n",
    "data.drop(data[(data['na_sales']==0)&(data['eu_sales']==0)&(data['jp_sales']==0)&(data['other_sales']==0)].index\n",
    "         ,inplace=True)"
   ]
  },
  {
   "cell_type": "markdown",
   "metadata": {},
   "source": [
    "**The final dataset.**\n",
    "\n",
    "Since our task is related to the analysis of the activity of various platforms over time, entries without a year of release of games on platforms can be deleted. There are few of them and they can introduce errors into the analysis."
   ]
  },
  {
   "cell_type": "code",
   "execution_count": 29,
   "metadata": {},
   "outputs": [],
   "source": [
    "#a new dataset\n",
    "df_games = data[data['year_of_release'].isnull()==False].copy()\n",
    "#convert type of year_release to integer (by meaning)\n",
    "df_games['year_of_release']= df_games['year_of_release'].astype('int')"
   ]
  },
  {
   "cell_type": "code",
   "execution_count": 30,
   "metadata": {},
   "outputs": [
    {
     "data": {
      "image/png": "[encoded data removed]",
      "text/plain": [
       "<Figure size 432x288 with 1 Axes>"
      ]
     },
     "metadata": {
      "needs_background": "light"
     },
     "output_type": "display_data"
    }
   ],
   "source": [
    "#the distribution of release years\n",
    "plt.title(\"Distribution of years of release\"); \n",
    "df_games['year_of_release'].hist(color='0.75');"
   ]
  },
  {
   "cell_type": "markdown",
   "metadata": {},
   "source": [
    "Game release dates are distributed to the left.<br>\n",
    "This is not an anomaly, but the normal behavior of historical data. I will not remove the outlier in order to find the appropriate patterns during analysis. And I will reduce the dataset later to make a prediction.\n",
    "\n",
    "Adding a new column with total sales."
   ]
  },
  {
   "cell_type": "code",
   "execution_count": 31,
   "metadata": {},
   "outputs": [],
   "source": [
    "#new column\n",
    "df_games['total_sales']= df_games[['na_sales','eu_sales','jp_sales','other_sales']].sum(axis=1)"
   ]
  },
  {
   "cell_type": "code",
   "execution_count": 32,
   "metadata": {},
   "outputs": [
    {
     "data": {
      "image/png": "[encoded data removed]",
      "text/plain": [
       "<Figure size 432x288 with 1 Axes>"
      ]
     },
     "metadata": {
      "needs_background": "light"
     },
     "output_type": "display_data"
    }
   ],
   "source": [
    "#the distribution of total_sales\n",
    "plt.title(\"Total game sales\"); \n",
    "df_games['total_sales'].plot(kind='box', vert=False);"
   ]
  },
  {
   "cell_type": "code",
   "execution_count": 33,
   "metadata": {},
   "outputs": [
    {
     "data": {
      "text/html": [
       "<div>\n",
       "<style scoped>\n",
       "    .dataframe tbody tr th:only-of-type {\n",
       "        vertical-align: middle;\n",
       "    }\n",
       "\n",
       "    .dataframe tbody tr th {\n",
       "        vertical-align: top;\n",
       "    }\n",
       "\n",
       "    .dataframe thead th {\n",
       "        text-align: right;\n",
       "    }\n",
       "</style>\n",
       "<table border=\"1\" class=\"dataframe\">\n",
       "  <thead>\n",
       "    <tr style=\"text-align: right;\">\n",
       "      <th></th>\n",
       "      <th>name</th>\n",
       "      <th>platform</th>\n",
       "      <th>year_of_release</th>\n",
       "      <th>genre</th>\n",
       "      <th>na_sales</th>\n",
       "      <th>eu_sales</th>\n",
       "      <th>jp_sales</th>\n",
       "      <th>other_sales</th>\n",
       "      <th>critic_score</th>\n",
       "      <th>user_score</th>\n",
       "      <th>rating</th>\n",
       "      <th>n_user_score</th>\n",
       "      <th>total_sales</th>\n",
       "    </tr>\n",
       "  </thead>\n",
       "  <tbody>\n",
       "    <tr>\n",
       "      <th>0</th>\n",
       "      <td>Wii Sports</td>\n",
       "      <td>Wii</td>\n",
       "      <td>2006</td>\n",
       "      <td>Sports</td>\n",
       "      <td>41.36</td>\n",
       "      <td>28.96</td>\n",
       "      <td>3.77</td>\n",
       "      <td>8.45</td>\n",
       "      <td>76.0</td>\n",
       "      <td>8</td>\n",
       "      <td>E</td>\n",
       "      <td>8.0</td>\n",
       "      <td>82.54</td>\n",
       "    </tr>\n",
       "  </tbody>\n",
       "</table>\n",
       "</div>"
      ],
      "text/plain": [
       "         name platform  year_of_release   genre  na_sales  eu_sales  jp_sales  \\\n",
       "0  Wii Sports      Wii             2006  Sports     41.36     28.96      3.77   \n",
       "\n",
       "   other_sales  critic_score user_score rating  n_user_score  total_sales  \n",
       "0         8.45          76.0          8      E           8.0        82.54  "
      ]
     },
     "execution_count": 33,
     "metadata": {},
     "output_type": "execute_result"
    }
   ],
   "source": [
    "df_games[df_games['total_sales']>60]"
   ]
  },
  {
   "cell_type": "markdown",
   "metadata": {},
   "source": [
    "Wii Sports was a super popular game in 2006 and broke all sales records in North America and Europe. For our analysis, this is a clear outlier, because it can affect the results. We will leave the rest of the outliers as historical data."
   ]
  },
  {
   "cell_type": "code",
   "execution_count": 34,
   "metadata": {},
   "outputs": [],
   "source": [
    "#delete Wii Sport 2006\n",
    "df_games.drop(0, inplace=True)"
   ]
  },
  {
   "cell_type": "code",
   "execution_count": 35,
   "metadata": {},
   "outputs": [
    {
     "data": {
      "text/html": [
       "<div>\n",
       "<style scoped>\n",
       "    .dataframe tbody tr th:only-of-type {\n",
       "        vertical-align: middle;\n",
       "    }\n",
       "\n",
       "    .dataframe tbody tr th {\n",
       "        vertical-align: top;\n",
       "    }\n",
       "\n",
       "    .dataframe thead th {\n",
       "        text-align: right;\n",
       "    }\n",
       "</style>\n",
       "<table border=\"1\" class=\"dataframe\">\n",
       "  <thead>\n",
       "    <tr style=\"text-align: right;\">\n",
       "      <th></th>\n",
       "      <th>year_of_release</th>\n",
       "      <th>na_sales</th>\n",
       "      <th>eu_sales</th>\n",
       "      <th>jp_sales</th>\n",
       "      <th>other_sales</th>\n",
       "      <th>critic_score</th>\n",
       "      <th>n_user_score</th>\n",
       "      <th>total_sales</th>\n",
       "    </tr>\n",
       "  </thead>\n",
       "  <tbody>\n",
       "    <tr>\n",
       "      <th>count</th>\n",
       "      <td>16561.000000</td>\n",
       "      <td>16561.000000</td>\n",
       "      <td>16561.000000</td>\n",
       "      <td>16561.000000</td>\n",
       "      <td>16561.000000</td>\n",
       "      <td>16561.000000</td>\n",
       "      <td>16561.000000</td>\n",
       "      <td>16561.000000</td>\n",
       "    </tr>\n",
       "    <tr>\n",
       "      <th>mean</th>\n",
       "      <td>2006.491395</td>\n",
       "      <td>0.261525</td>\n",
       "      <td>0.144136</td>\n",
       "      <td>0.077822</td>\n",
       "      <td>0.047094</td>\n",
       "      <td>66.764067</td>\n",
       "      <td>6.962454</td>\n",
       "      <td>0.530577</td>\n",
       "    </tr>\n",
       "    <tr>\n",
       "      <th>std</th>\n",
       "      <td>5.863581</td>\n",
       "      <td>0.751536</td>\n",
       "      <td>0.453193</td>\n",
       "      <td>0.308791</td>\n",
       "      <td>0.175794</td>\n",
       "      <td>15.134288</td>\n",
       "      <td>1.604622</td>\n",
       "      <td>1.418023</td>\n",
       "    </tr>\n",
       "    <tr>\n",
       "      <th>min</th>\n",
       "      <td>1980.000000</td>\n",
       "      <td>0.000000</td>\n",
       "      <td>0.000000</td>\n",
       "      <td>0.000000</td>\n",
       "      <td>0.000000</td>\n",
       "      <td>0.000000</td>\n",
       "      <td>0.000000</td>\n",
       "      <td>0.010000</td>\n",
       "    </tr>\n",
       "    <tr>\n",
       "      <th>25%</th>\n",
       "      <td>2003.000000</td>\n",
       "      <td>0.000000</td>\n",
       "      <td>0.000000</td>\n",
       "      <td>0.000000</td>\n",
       "      <td>0.000000</td>\n",
       "      <td>62.000000</td>\n",
       "      <td>6.539379</td>\n",
       "      <td>0.060000</td>\n",
       "    </tr>\n",
       "    <tr>\n",
       "      <th>50%</th>\n",
       "      <td>2007.000000</td>\n",
       "      <td>0.080000</td>\n",
       "      <td>0.020000</td>\n",
       "      <td>0.000000</td>\n",
       "      <td>0.010000</td>\n",
       "      <td>68.000000</td>\n",
       "      <td>7.200000</td>\n",
       "      <td>0.170000</td>\n",
       "    </tr>\n",
       "    <tr>\n",
       "      <th>75%</th>\n",
       "      <td>2010.000000</td>\n",
       "      <td>0.240000</td>\n",
       "      <td>0.110000</td>\n",
       "      <td>0.040000</td>\n",
       "      <td>0.030000</td>\n",
       "      <td>75.000000</td>\n",
       "      <td>7.847059</td>\n",
       "      <td>0.470000</td>\n",
       "    </tr>\n",
       "    <tr>\n",
       "      <th>max</th>\n",
       "      <td>2016.000000</td>\n",
       "      <td>29.080000</td>\n",
       "      <td>12.760000</td>\n",
       "      <td>10.220000</td>\n",
       "      <td>10.570000</td>\n",
       "      <td>98.000000</td>\n",
       "      <td>9.700000</td>\n",
       "      <td>40.240000</td>\n",
       "    </tr>\n",
       "  </tbody>\n",
       "</table>\n",
       "</div>"
      ],
      "text/plain": [
       "       year_of_release      na_sales      eu_sales      jp_sales  \\\n",
       "count     16561.000000  16561.000000  16561.000000  16561.000000   \n",
       "mean       2006.491395      0.261525      0.144136      0.077822   \n",
       "std           5.863581      0.751536      0.453193      0.308791   \n",
       "min        1980.000000      0.000000      0.000000      0.000000   \n",
       "25%        2003.000000      0.000000      0.000000      0.000000   \n",
       "50%        2007.000000      0.080000      0.020000      0.000000   \n",
       "75%        2010.000000      0.240000      0.110000      0.040000   \n",
       "max        2016.000000     29.080000     12.760000     10.220000   \n",
       "\n",
       "        other_sales  critic_score  n_user_score   total_sales  \n",
       "count  16561.000000  16561.000000  16561.000000  16561.000000  \n",
       "mean       0.047094     66.764067      6.962454      0.530577  \n",
       "std        0.175794     15.134288      1.604622      1.418023  \n",
       "min        0.000000      0.000000      0.000000      0.010000  \n",
       "25%        0.000000     62.000000      6.539379      0.060000  \n",
       "50%        0.010000     68.000000      7.200000      0.170000  \n",
       "75%        0.030000     75.000000      7.847059      0.470000  \n",
       "max       10.570000     98.000000      9.700000     40.240000  "
      ]
     },
     "execution_count": 35,
     "metadata": {},
     "output_type": "execute_result"
    }
   ],
   "source": [
    "df_games.describe()"
   ]
  },
  {
   "cell_type": "markdown",
   "metadata": {},
   "source": [
    "## Conclusion <a class=\"anchor\" id=\"Conclusion_Part_2\">\n",
    "\n",
    "The original dataset contains the release, sales, and rating records of games across various consoles and platforms. Data from 1980 to 2016.\n",
    "\n",
    "The rating information is incomplete and may require additional steps when performing the analysis.\n",
    "When examining the dataset, we encountered the following errors: duplicate data, missing values, values that should have been determined, but were not filled in, abnormal values.<br>\n",
    "The dataset contains historical data, perhaps it was collected from various places that became the source of the error.\n",
    "\n",
    "Incomplete definition.<br>\n",
    "We found incomplete data in the name of the games - this is data from 1993, some kind of a platform video game. Incomplete data was in the years of the game's release. Some values could be recovered from data from other consoles and platforms, but 0.9% of the entries were excluded from the statistics.\n",
    "\n",
    "Fields with ratings were considered separately.<br>\n",
    "The rating is ordinal data and refers to quantities that have a natural ordering. Therefore, we can calculate the mean, median or mode of the feature and replace missing values. This is an approximation which can add variance to the data set.<br>\n",
    "The two fields User Score and Critic Score contain numeric values, which made it possible to replace the missing values with the mean value for the console (platform) and genre. The Rating column contains labels of The Entertainment Software Rating Board. This is a categorical variable, so we used the most common value E (Everyone) to fill in the missing values. However, some records were excluded from the statistics in order not to add ambiguity to the data.\n",
    "\n",
    "The final dataset has 16572 records. A column with information on total sales has been added to the dataset."
   ]
  },
  {
   "cell_type": "markdown",
   "metadata": {},
   "source": [
    "## Part 3. Analyze the data<a class=\"anchor\" id=\"Part_3\"></a>\n",
    "[Go back to the Contents](#contents)\n",
    "\n",
    "- *Look at how many games were released in different years. Is the data for every period significant?*"
   ]
  },
  {
   "cell_type": "code",
   "execution_count": 36,
   "metadata": {},
   "outputs": [],
   "source": [
    "#prepare the data for plotting\n",
    "#dataset of released games\n",
    "df = df_games[['year_of_release','name']].groupby('year_of_release').count().reset_index()"
   ]
  },
  {
   "cell_type": "code",
   "execution_count": 37,
   "metadata": {},
   "outputs": [
    {
     "data": {
      "image/png": "[encoded data removed]",
      "text/plain": [
       "<Figure size 1080x504 with 1 Axes>"
      ]
     },
     "metadata": {
      "needs_background": "light"
     },
     "output_type": "display_data"
    }
   ],
   "source": [
    "#lolipop graph\n",
    "fig,ax = plt.subplots(figsize=(15,7))\n",
    "ax.vlines(x=df.year_of_release, ymin=0, ymax=df.name, color='green', alpha=0.7, linewidth=2)\n",
    "ax.scatter(x=df.year_of_release, y=df.name, s=75, color='red', alpha=0.7);\n",
    "#params\n",
    "ax.set_title('Games released on video game platforms', fontdict={'size':15});\n",
    "ax.set_ylabel('Number of games');\n",
    "ax.set_xticks(df.year_of_release);\n",
    "ax.set_xticklabels(df.year_of_release, rotation=90\n",
    "                   , fontdict={'size':9, 'horizontalalignment':'right'});\n",
    "#precise values\n",
    "for row in df.itertuples():\n",
    "    ax.text(row.year_of_release, row.name+30, s=round(row.name,2), fontsize=9)"
   ]
  },
  {
   "cell_type": "markdown",
   "metadata": {},
   "source": [
    "The first game consoles appeared in 1967 and since then their popularity has increased. Our sample presents data from 1980, when two generations of game consoles and platforms were already released.<br>\n",
    "Until 1994, game consoles were expensive devices and there were not many games released.<br> \n",
    "Since 1994, the fifth generation of devices has appeared and their popularity has gone up. The peak of popularity was in 2008-2009.<br>\n",
    "In the 2010s,with the increasing prevalence of technology and the Internet in everyday life, the popularity of video consoles began to decline. In 2012, the number of games released was half that of the previous year. Until 2016, the level remains around 600 released games per year. (In our sample, 2016 data may be incomplete)"
   ]
  },
  {
   "cell_type": "markdown",
   "metadata": {},
   "source": [
    "The next task:\n",
    "- *Look at how sales varied from platform to platform. Choose the platforms with the greatest total sales and build a distribution based on data for each year. Find platforms that used to be popular but now have zero sales. How long does it generally take for new platforms to appear and old ones to fade?*"
   ]
  },
  {
   "cell_type": "code",
   "execution_count": 38,
   "metadata": {},
   "outputs": [
    {
     "name": "stdout",
     "output_type": "stream",
     "text": [
      "Number of platforms (consoles) in sample: 31\n"
     ]
    }
   ],
   "source": [
    "#prepare the data for plotting\n",
    "#dataset of total sales by platforms\n",
    "df_totalsales= df_games.groupby('platform').agg({'total_sales':'sum'}).sort_values('total_sales')\n",
    "print('Number of platforms (consoles) in sample:',df_totalsales.shape[0])"
   ]
  },
  {
   "cell_type": "code",
   "execution_count": 39,
   "metadata": {},
   "outputs": [
    {
     "data": {
      "image/png": "[encoded data removed]",
      "text/plain": [
       "<Figure size 1080x504 with 1 Axes>"
      ]
     },
     "metadata": {
      "needs_background": "light"
     },
     "output_type": "display_data"
    }
   ],
   "source": [
    "#barplot graph\n",
    "#params\n",
    "fig = plt.figure(figsize = (15, 7))\n",
    "ax = fig.add_subplot()\n",
    "ax.set_title('Total sales', fontdict={'size':15});\n",
    "ax.set_ylabel('in million dollars');\n",
    "xn= range(df_totalsales.shape[0])\n",
    "\n",
    "x= df_totalsales.index\n",
    "y= df_totalsales.total_sales\n",
    "for x_, y_ in zip(x, y):\n",
    "    ax.bar(x_, y_, color = \"green\", alpha = 0.4, );\n",
    "    ax.text(x_, y_ + 20, round(y_, 1), horizontalalignment = 'center', fontsize=8)\n",
    "plt.xticks(np.arange(min(xn), max(xn)+1), x, rotation='vertical');"
   ]
  },
  {
   "cell_type": "markdown",
   "metadata": {},
   "source": [
    "In the graph above, we saw that with the evolution of consoles, the number of games released is increasing. However, among the most profitable consoles we see the PS2 console - the sixth generation of video game consoles. It is far ahead of competitors in terms of profitability.<br>\n",
    "Let's take a closer look at the PS2 data."
   ]
  },
  {
   "cell_type": "code",
   "execution_count": 40,
   "metadata": {},
   "outputs": [],
   "source": [
    "#prepare the data for plotting\n",
    "#dataset of total sales by platforms\n",
    "df= (df_games\n",
    "     .loc[(df_games['platform']=='PS2'),['year_of_release', 'total_sales']]\n",
    "     .groupby('year_of_release').sum()\n",
    "     .sort_values('year_of_release').reset_index()\n",
    "    )\n",
    "#standarize the data\n",
    "df['z_sales']= (df['total_sales'] - df['total_sales'].mean())/df['total_sales'].std()"
   ]
  },
  {
   "cell_type": "code",
   "execution_count": 41,
   "metadata": {},
   "outputs": [
    {
     "data": {
      "image/png": "[encoded data removed]",
      "text/plain": [
       "<Figure size 1080x360 with 1 Axes>"
      ]
     },
     "metadata": {
      "needs_background": "light"
     },
     "output_type": "display_data"
    }
   ],
   "source": [
    "#divergent graph\n",
    "#create a color list, where if value is above > 0 it's green otherwise red\n",
    "colors= [\"red\" if x < 0 else \"green\" for x in df['z_sales']]\n",
    "\n",
    "#instanciate the figure\n",
    "plt.figure(figsize= (15, 5))\n",
    "plt.hlines(y= df['year_of_release'], xmin=0, xmax=df['z_sales'], color=colors, alpha=0.4, linewidth=10);\n",
    "plt.yticks(df.year_of_release);\n",
    "\n",
    "#params\n",
    "plt.xlabel('Z-score')\n",
    "plt.title('Diverging plot of Total Sales by PS2 console');"
   ]
  },
  {
   "cell_type": "markdown",
   "metadata": {},
   "source": [
    "Z-score is a statistical measurement of a score's relationship to the mean in a group of scores. A positive Z-score says the data point is above average. A negative Z-score says the data point is below average.<br>\n",
    "As we can see, the heyday of the life cycle of the PS2 console came from 2001 to 2005.\n",
    "\n",
    "- _Find platforms that used to be popular but now have zero sales. How long does it generally take for new platforms to appear and old ones to fade?_"
   ]
  },
  {
   "cell_type": "code",
   "execution_count": 42,
   "metadata": {},
   "outputs": [],
   "source": [
    "#prepare the data for plotting\n",
    "#dataset of total sales by platforms and years\n",
    "df_yearsales= pd.pivot_table(df_games, index='year_of_release', columns='platform', values='total_sales'\n",
    "                   , aggfunc='sum', fill_value=0).T\n",
    "#dynamics of life of platforms and consoles\n",
    "#dinamics = (df - df.shift(+1)).T"
   ]
  },
  {
   "cell_type": "code",
   "execution_count": 43,
   "metadata": {},
   "outputs": [
    {
     "data": {
      "image/png": "[encoded data removed]",
      "text/plain": [
       "<Figure size 1080x648 with 2 Axes>"
      ]
     },
     "metadata": {
      "needs_background": "light"
     },
     "output_type": "display_data"
    }
   ],
   "source": [
    "#instanciate the figure\n",
    "fig, ax = plt.subplots(figsize= (15, 9))\n",
    "sns.heatmap(df_yearsales, cmap=\"Greens\", linewidths=.1).set_title(\"Platform success period\");\n",
    "ax.set_ylabel('');    \n",
    "ax.set_xlabel('');"
   ]
  },
  {
   "cell_type": "markdown",
   "metadata": {},
   "source": [
    "It is interesting to note that cycle of successful platform life is 5 years. Even such a super popular console as the PS2, in 2006, significantly lost ground. Maybe this is due to the release of new consoles or with the rapid development of technology or successful marketing moves. Anyway, 5 years is the point of success.\n",
    "\n",
    "- _How many platforms were successful in our sample and have zero sales by 2015?_"
   ]
  },
  {
   "cell_type": "code",
   "execution_count": 44,
   "metadata": {},
   "outputs": [
    {
     "name": "stdout",
     "output_type": "stream",
     "text": [
      "The mean of game total sales: 283.4\n"
     ]
    }
   ],
   "source": [
    "#the mean value by total sales of platmorms\n",
    "totalsales_mean = round(df_totalsales['total_sales'].mean(), 1)\n",
    "print(\"The mean of game total sales:\", totalsales_mean)"
   ]
  },
  {
   "cell_type": "markdown",
   "metadata": {},
   "source": [
    "Let's select those whose sales were above average."
   ]
  },
  {
   "cell_type": "code",
   "execution_count": 45,
   "metadata": {},
   "outputs": [
    {
     "name": "stdout",
     "output_type": "stream",
     "text": [
      "Number of platforms with above average income: 9\n"
     ]
    }
   ],
   "source": [
    "#successful platforms\n",
    "df1 = df_totalsales[(df_totalsales['total_sales']>=totalsales_mean)].reset_index()\n",
    "print('Number of platforms with above average income:', df1.shape[0])"
   ]
  },
  {
   "cell_type": "code",
   "execution_count": 46,
   "metadata": {},
   "outputs": [
    {
     "data": {
      "text/html": [
       "<div>\n",
       "<style scoped>\n",
       "    .dataframe tbody tr th:only-of-type {\n",
       "        vertical-align: middle;\n",
       "    }\n",
       "\n",
       "    .dataframe tbody tr th {\n",
       "        vertical-align: top;\n",
       "    }\n",
       "\n",
       "    .dataframe thead th {\n",
       "        text-align: right;\n",
       "    }\n",
       "</style>\n",
       "<table border=\"1\" class=\"dataframe\">\n",
       "  <thead>\n",
       "    <tr style=\"text-align: right;\">\n",
       "      <th></th>\n",
       "      <th>platform</th>\n",
       "    </tr>\n",
       "  </thead>\n",
       "  <tbody>\n",
       "    <tr>\n",
       "      <th>0</th>\n",
       "      <td>GBA</td>\n",
       "    </tr>\n",
       "    <tr>\n",
       "      <th>1</th>\n",
       "      <td>PS</td>\n",
       "    </tr>\n",
       "    <tr>\n",
       "      <th>2</th>\n",
       "      <td>DS</td>\n",
       "    </tr>\n",
       "    <tr>\n",
       "      <th>3</th>\n",
       "      <td>PS2</td>\n",
       "    </tr>\n",
       "  </tbody>\n",
       "</table>\n",
       "</div>"
      ],
      "text/plain": [
       "  platform\n",
       "0      GBA\n",
       "1       PS\n",
       "2       DS\n",
       "3      PS2"
      ]
     },
     "execution_count": 46,
     "metadata": {},
     "output_type": "execute_result"
    }
   ],
   "source": [
    "#alive platforms in 2015 and later\n",
    "df2 = df_games[(df_games['year_of_release']>=2015)].groupby('platform').agg({'name':'count'}).reset_index()\n",
    "\n",
    "#the platforms that used to be popular but now have zero sales\n",
    "df3 = pd.merge(df1, df2, on=['platform', 'platform'], how='left')\n",
    "df3.loc[(df3['name'].isnull()==True)][['platform']].reset_index(drop=True)"
   ]
  },
  {
   "cell_type": "markdown",
   "metadata": {},
   "source": [
    "Game Boy Advance(GBA), PlayStation (PS), Nintendo DS and PlayStation 2 (PS2) were dropped out of the game.\n",
    "\n",
    "- _How long does it generally take for new platforms to appear and old ones to fade?_"
   ]
  },
  {
   "cell_type": "code",
   "execution_count": 47,
   "metadata": {},
   "outputs": [],
   "source": [
    "#prepare the data for plotting\n",
    "#dataset of total sales by platforms and years\n",
    "df= pd.pivot_table(df_games, index='platform', columns='year_of_release', values='total_sales'\n",
    "                   , aggfunc='sum')"
   ]
  },
  {
   "cell_type": "code",
   "execution_count": 48,
   "metadata": {},
   "outputs": [],
   "source": [
    "#improvement for visualization\n",
    "df = df_yearsales* (-1)\n",
    "df.fillna(0, inplace=True)\n",
    "\n",
    "#define the sorter\n",
    "sorter = ['2600', 'NES', 'GB', 'SNES', 'GEN', 'SAT', 'PS', 'PC', 'N64', 'DC',\n",
    "          'PS2', 'GBA', 'GC', 'XB', 'DS', 'PSP', 'X360', 'PS3', 'Wii',\n",
    "          '3DS', 'PSV', 'WiiU', 'PS4', 'XOne']"
   ]
  },
  {
   "cell_type": "code",
   "execution_count": 49,
   "metadata": {},
   "outputs": [
    {
     "data": {
      "image/png": "[encoded data removed]",
      "text/plain": [
       "<Figure size 936x648 with 1 Axes>"
      ]
     },
     "metadata": {
      "needs_background": "light"
     },
     "output_type": "display_data"
    }
   ],
   "source": [
    "#plotting\n",
    "fig, ax = plt.subplots(figsize= (13, 9))\n",
    "cmap = sns.diverging_palette(10, 133, as_cmap=True)\n",
    "sns.heatmap(df.loc[sorter], cmap=cmap, cbar=False).set_title(\"Platform life time\");\n",
    "ax.set_ylabel('');    \n",
    "ax.set_xlabel('');"
   ]
  },
  {
   "cell_type": "code",
   "execution_count": 50,
   "metadata": {},
   "outputs": [
    {
     "name": "stdout",
     "output_type": "stream",
     "text": [
      "The average platform lifetime is 7 years\n"
     ]
    }
   ],
   "source": [
    "#The average platform lifetime\n",
    "#exclude PC console as outlier\n",
    "lifetime_mean= pd.pivot_table(df_games[df_games['platform']!='PC']\n",
    "                   , index='platform', columns='year_of_release', values='total_sales'\n",
    "                   , aggfunc='sum').count(axis=1).mean()\n",
    "print('The average platform lifetime is',round(lifetime_mean),'years')"
   ]
  },
  {
   "cell_type": "code",
   "execution_count": 51,
   "metadata": {},
   "outputs": [
    {
     "name": "stdout",
     "output_type": "stream",
     "text": [
      "The average number of platforms in a year is 7\n"
     ]
    }
   ],
   "source": [
    "#The average number of platform per year\n",
    "#exclude PC console as outlier\n",
    "lifetime_mean= pd.pivot_table(df_games[df_games['platform']!='PC']\n",
    "                   , index='platform', columns='year_of_release', values='total_sales'\n",
    "                   , aggfunc='sum').count(axis=1).mean()\n",
    "print('The average number of platforms in a year is',round(lifetime_mean))"
   ]
  },
  {
   "cell_type": "markdown",
   "metadata": {},
   "source": [
    "A graphical representation of data shows us that since 2001 successful platforms appear on average every 5 years, the average platform life cycle is 7 years, the average number of platforms active during the year is 7."
   ]
  },
  {
   "cell_type": "markdown",
   "metadata": {},
   "source": [
    "For further analysis, let's reduce the dataset and take data from 2010. This is a little more than the average platform lifespan according to the dataset and will help to see those platforms that have finished their journey and those that have replaced them."
   ]
  },
  {
   "cell_type": "markdown",
   "metadata": {},
   "source": [
    "- _Are differences in sales significant?_\n",
    "\n",
    "When comparing the diagrams, we can conclude that until 1994 the consoles produced had a long life cycle and brought in average income. In 1994, three platforms PC, PS and SAT appeared.<br>\n",
    "However, the PlayStation (PS) was the first computer entertainment platform. This contributed to a significant jump in sales. In addition, Sony did not stop at this version of the console for a long time and five years later released a new version - PS2. The PS2 platform was even more successful. Further, the dynamics are similar to the story with the PlayStation.<br>\n",
    "As the chart shows, the quick release of a new version of the console plays a significant role in high sales."
   ]
  },
  {
   "cell_type": "code",
   "execution_count": 52,
   "metadata": {},
   "outputs": [],
   "source": [
    "df_final= df_games[df_games['year_of_release']>=2010]"
   ]
  },
  {
   "cell_type": "markdown",
   "metadata": {},
   "source": [
    "- _Which platforms are leading in sales?_"
   ]
  },
  {
   "cell_type": "code",
   "execution_count": 53,
   "metadata": {},
   "outputs": [
    {
     "data": {
      "text/html": [
       "<div>\n",
       "<style scoped>\n",
       "    .dataframe tbody tr th:only-of-type {\n",
       "        vertical-align: middle;\n",
       "    }\n",
       "\n",
       "    .dataframe tbody tr th {\n",
       "        vertical-align: top;\n",
       "    }\n",
       "\n",
       "    .dataframe thead th {\n",
       "        text-align: right;\n",
       "    }\n",
       "</style>\n",
       "<table border=\"1\" class=\"dataframe\">\n",
       "  <thead>\n",
       "    <tr style=\"text-align: right;\">\n",
       "      <th></th>\n",
       "      <th>total_sales</th>\n",
       "    </tr>\n",
       "    <tr>\n",
       "      <th>platform</th>\n",
       "      <th></th>\n",
       "    </tr>\n",
       "  </thead>\n",
       "  <tbody>\n",
       "    <tr>\n",
       "      <th>PS4</th>\n",
       "      <td>0.801378</td>\n",
       "    </tr>\n",
       "    <tr>\n",
       "      <th>X360</th>\n",
       "      <td>0.799639</td>\n",
       "    </tr>\n",
       "    <tr>\n",
       "      <th>PS3</th>\n",
       "      <td>0.656997</td>\n",
       "    </tr>\n",
       "    <tr>\n",
       "      <th>XOne</th>\n",
       "      <td>0.645020</td>\n",
       "    </tr>\n",
       "    <tr>\n",
       "      <th>WiiU</th>\n",
       "      <td>0.559116</td>\n",
       "    </tr>\n",
       "  </tbody>\n",
       "</table>\n",
       "</div>"
      ],
      "text/plain": [
       "          total_sales\n",
       "platform             \n",
       "PS4          0.801378\n",
       "X360         0.799639\n",
       "PS3          0.656997\n",
       "XOne         0.645020\n",
       "WiiU         0.559116"
      ]
     },
     "execution_count": 53,
     "metadata": {},
     "output_type": "execute_result"
    }
   ],
   "source": [
    "#leading in sales\n",
    "df= df_final.groupby('platform')[['total_sales']].mean()\n",
    "df.nlargest(5,'total_sales')"
   ]
  },
  {
   "cell_type": "markdown",
   "metadata": {},
   "source": [
    "PS3 and X360 consoles are unconditional leaders, their income is almost twice as high as other leaders.\n",
    "\n",
    "- _Which ones are growing or shrinking?_"
   ]
  },
  {
   "cell_type": "code",
   "execution_count": 54,
   "metadata": {},
   "outputs": [
    {
     "data": {
      "image/png": "[encoded data removed]",
      "text/plain": [
       "<Figure size 936x504 with 2 Axes>"
      ]
     },
     "metadata": {
      "needs_background": "light"
     },
     "output_type": "display_data"
    }
   ],
   "source": [
    "#total sales distribution\n",
    "#dataset\n",
    "df= pd.pivot_table(df_final, index=['year_of_release'], columns=['platform'], \n",
    "                   values=['total_sales'], aggfunc='mean')\n",
    "#plotting\n",
    "fig, ax = plt.subplots(figsize= (13, 7))\n",
    "sns.heatmap(df.T).set_title(\"Change in total sales by platform\");\n",
    "ax.set_ylabel('');    \n",
    "ax.set_xlabel('year_of_release');"
   ]
  },
  {
   "cell_type": "markdown",
   "metadata": {},
   "source": [
    "There is the following dynamic here:<br>\n",
    "PS2 ended in 2011 the same year PSV released<br>\n",
    "Wii U in 2012 started selling<br>\n",
    "DS ended in 2013, XBOX One and PS4 launched the same year<br>\n",
    "PSP ended in 2015<br>\n",
    "From 2013 to 2015, 10 consoles were active per year.\n",
    "\n",
    "The next task is:<br>\n",
    "- _Select several potentially profitable platforms._\n",
    "\n",
    "For this, we will select the last two years and see the dynamics of sales.<br>\n",
    "For the graph, we use the median, because the total sales  distribution give us a skewed graph and we have to be sure of the dynamics."
   ]
  },
  {
   "cell_type": "code",
   "execution_count": 55,
   "metadata": {},
   "outputs": [
    {
     "data": {
      "image/png": "[encoded data removed]",
      "text/plain": [
       "<Figure size 936x504 with 1 Axes>"
      ]
     },
     "metadata": {
      "needs_background": "light"
     },
     "output_type": "display_data"
    }
   ],
   "source": [
    "#total sales median\n",
    "(\n",
    "    pd.pivot_table(df_final.loc[(df_final['year_of_release']>=2014)]\n",
    "                   , index=['year_of_release'], columns=['platform']\n",
    "                   , values=['total_sales'], aggfunc='median')\n",
    ").plot(style='o-', title='Statistics', figsize=(13, 7));"
   ]
  },
  {
   "cell_type": "markdown",
   "metadata": {},
   "source": [
    "There is the following dynamic here:<br>\n",
    "Wii U raised sales, Wii raised sales again, PS3 raised also, 3DS move constantly."
   ]
  },
  {
   "cell_type": "markdown",
   "metadata": {},
   "source": [
    "Let's build a box plot for the global sales of all games by platform and find ."
   ]
  },
  {
   "cell_type": "code",
   "execution_count": 56,
   "metadata": {},
   "outputs": [],
   "source": [
    "#sorting\n",
    "sorter = df_final.groupby(['platform'])[['total_sales']].sum().reset_index()\n",
    "sorter = sorter.sort_values('total_sales')['platform']"
   ]
  },
  {
   "cell_type": "code",
   "execution_count": 57,
   "metadata": {},
   "outputs": [
    {
     "data": {
      "image/png": "[encoded data removed]",
      "text/plain": [
       "<Figure size 936x504 with 1 Axes>"
      ]
     },
     "metadata": {
      "needs_background": "light"
     },
     "output_type": "display_data"
    }
   ],
   "source": [
    "#plotting\n",
    "plt.figure(figsize=(13,7))\n",
    "ax = sns.boxplot(x='platform', y='total_sales', data=df_final, order=sorter, showfliers=False);\n",
    "ax.set_title('Distribution of game total sales');"
   ]
  },
  {
   "cell_type": "markdown",
   "metadata": {},
   "source": [
    "We can see here how our data is spread out.<br> \n",
    "XOne, PS4, X360 and PS3 have the same kind of distribution. The others show very different distributions of views."
   ]
  },
  {
   "cell_type": "markdown",
   "metadata": {},
   "source": [
    "- _What about average sales on various platforms?_"
   ]
  },
  {
   "cell_type": "code",
   "execution_count": 58,
   "metadata": {},
   "outputs": [],
   "source": [
    "#prepare the data for plotting\n",
    "#dataset of total sales by platforms and years\n",
    "df_events= df_final.groupby('platform').agg({'name':'count','total_sales':'sum'})\n",
    "df_events.columns= ['Count_Of_Games','Total_Sales']"
   ]
  },
  {
   "cell_type": "code",
   "execution_count": 59,
   "metadata": {},
   "outputs": [
    {
     "data": {
      "image/png": "[encoded data removed]",
      "text/plain": [
       "<Figure size 720x504 with 1 Axes>"
      ]
     },
     "metadata": {
      "needs_background": "light"
     },
     "output_type": "display_data"
    }
   ],
   "source": [
    "#plotting\n",
    "fig = plt.figure(figsize = (10, 7))\n",
    "ax = fig.add_subplot()\n",
    "#data\n",
    "ax.barh(df_events.index\n",
    "        , df_events['Count_Of_Games']/df_final.shape[0] #ratio\n",
    "        , color = \"red\", alpha = 0.3, label = \"Number of games %\");\n",
    "ax.barh(df_events.index\n",
    "        , -df_events['Total_Sales']/df_final.shape[0]   #ratio\n",
    "        , color = \"green\", alpha = 0.3, label = \"Total sales %\");\n",
    "#params\n",
    "ax.legend(loc = \"upper right\", fontsize = 12);\n",
    "ax.set_xlabel(\"Percentage of total\", fontsize = 12);\n",
    "ax.set_title(\"Comparison of the number of games and income\", fontsize = 14);"
   ]
  },
  {
   "cell_type": "markdown",
   "metadata": {},
   "source": [
    "The chart shows us that platforms with average high sales also have a large number of games on the platform."
   ]
  },
  {
   "cell_type": "markdown",
   "metadata": {},
   "source": [
    "Now, let's take a look at how user and professional reviews affect sales for the Nintendo 3DS. It was announced in March 2010, so we have all the data in our reduced dataset. Let's see relationships."
   ]
  },
  {
   "cell_type": "code",
   "execution_count": 60,
   "metadata": {},
   "outputs": [],
   "source": [
    "def make_plot(column, title, color):\n",
    "    #the function makes plot line\n",
    "    \n",
    "    #dataset of Nintendo 3DS\n",
    "    df = df_final.loc[((df_final[column]>0)&(df_final['platform']=='3DS')), [column,'total_sales']]\n",
    "    #scatter plot\n",
    "    sns.regplot(x=df[column], y=df[\"total_sales\"], color=color\n",
    "            , line_kws={\"color\":\"r\",\"alpha\":0.7,\"lw\":5}).set_title(title);"
   ]
  },
  {
   "cell_type": "code",
   "execution_count": 61,
   "metadata": {},
   "outputs": [
    {
     "data": {
      "image/png": "[encoded data removed]",
      "text/plain": [
       "<Figure size 432x288 with 1 Axes>"
      ]
     },
     "metadata": {
      "needs_background": "light"
     },
     "output_type": "display_data"
    }
   ],
   "source": [
    "make_plot(\"critic_score\",\"Total sales and Critic score\", \"green\")"
   ]
  },
  {
   "cell_type": "markdown",
   "metadata": {},
   "source": [
    "The graph shows a weak and positive correlation between the total amount of sales and critic scores."
   ]
  },
  {
   "cell_type": "code",
   "execution_count": 62,
   "metadata": {},
   "outputs": [
    {
     "data": {
      "image/png": "[encoded data removed]",
      "text/plain": [
       "<Figure size 432x288 with 1 Axes>"
      ]
     },
     "metadata": {
      "needs_background": "light"
     },
     "output_type": "display_data"
    }
   ],
   "source": [
    "make_plot(\"n_user_score\",\"Total sales and User score\", \"grey\")"
   ]
  },
  {
   "cell_type": "markdown",
   "metadata": {},
   "source": [
    "The graph shows weak positive correlation between the total amount of sales and user scores."
   ]
  },
  {
   "cell_type": "code",
   "execution_count": 63,
   "metadata": {},
   "outputs": [
    {
     "data": {
      "image/png": "[encoded data removed]",
      "text/plain": [
       "<Figure size 504x360 with 2 Axes>"
      ]
     },
     "metadata": {
      "needs_background": "light"
     },
     "output_type": "display_data"
    }
   ],
   "source": [
    "#correlation matrix\n",
    "corrMatrix = df_final.loc[((df_final['critic_score']>0)&(df_final['n_user_score']>0)&(df_final['platform']=='3DS'))\n",
    "                          ,['n_user_score','critic_score','total_sales'] ].corr()\n",
    "#heatmap chart\n",
    "plt.figure(figsize=(7,5))\n",
    "sns.heatmap(corrMatrix, annot=True);"
   ]
  },
  {
   "cell_type": "markdown",
   "metadata": {},
   "source": [
    "The correlation matrix also shows a weak and positive correlation between the total amount of sales and user and critic scores.<br>\n",
    "Perhaps this is only for this 3DS platform. Let's take a look at other consoles."
   ]
  },
  {
   "cell_type": "code",
   "execution_count": 64,
   "metadata": {},
   "outputs": [
    {
     "data": {
      "image/png": "[encoded data removed]",
      "text/plain": [
       "<Figure size 504x360 with 2 Axes>"
      ]
     },
     "metadata": {
      "needs_background": "light"
     },
     "output_type": "display_data"
    }
   ],
   "source": [
    "#correlation matrix\n",
    "corrMatrix = df_games.loc[((df_games['critic_score']>0)&(df_games['n_user_score']>0))\n",
    "                          ,['n_user_score','critic_score','total_sales'] ].corr()\n",
    "#heatmap chart\n",
    "plt.figure(figsize=(7,5))\n",
    "cmap = sns.diverging_palette(10, 133, as_cmap=True)\n",
    "sns.heatmap(corrMatrix, cmap=cmap, annot=True);"
   ]
  },
  {
   "cell_type": "markdown",
   "metadata": {},
   "source": [
    "The correlation matrix based on the data of the entire dataset shows that for platforms and consoles the correlation with the ratings of the reviewers is higher than with the ratings of the user."
   ]
  },
  {
   "cell_type": "markdown",
   "metadata": {},
   "source": [
    "Now the next task:<br>\n",
    "- _Take a look at the general distribution of games by genre._\n",
    "\n",
    "First, let's see the distribution by genre for the entire period."
   ]
  },
  {
   "cell_type": "code",
   "execution_count": 65,
   "metadata": {},
   "outputs": [
    {
     "data": {
      "image/png": "[encoded data removed]",
      "text/plain": [
       "<Figure size 936x360 with 1 Axes>"
      ]
     },
     "metadata": {
      "needs_background": "light"
     },
     "output_type": "display_data"
    }
   ],
   "source": [
    "#histogram by main dataset\n",
    "df_games['genre'].hist(figsize=(13,5), color='grey', bins=12);"
   ]
  },
  {
   "cell_type": "code",
   "execution_count": 66,
   "metadata": {},
   "outputs": [
    {
     "data": {
      "text/html": [
       "<div>\n",
       "<style scoped>\n",
       "    .dataframe tbody tr th:only-of-type {\n",
       "        vertical-align: middle;\n",
       "    }\n",
       "\n",
       "    .dataframe tbody tr th {\n",
       "        vertical-align: top;\n",
       "    }\n",
       "\n",
       "    .dataframe thead th {\n",
       "        text-align: right;\n",
       "    }\n",
       "</style>\n",
       "<table border=\"1\" class=\"dataframe\">\n",
       "  <thead>\n",
       "    <tr style=\"text-align: right;\">\n",
       "      <th></th>\n",
       "      <th>total_sales</th>\n",
       "    </tr>\n",
       "    <tr>\n",
       "      <th>genre</th>\n",
       "      <th></th>\n",
       "    </tr>\n",
       "  </thead>\n",
       "  <tbody>\n",
       "    <tr>\n",
       "      <th>Platform</th>\n",
       "      <td>0.27</td>\n",
       "    </tr>\n",
       "    <tr>\n",
       "      <th>Shooter</th>\n",
       "      <td>0.24</td>\n",
       "    </tr>\n",
       "    <tr>\n",
       "      <th>Sports</th>\n",
       "      <td>0.22</td>\n",
       "    </tr>\n",
       "    <tr>\n",
       "      <th>Fighting</th>\n",
       "      <td>0.21</td>\n",
       "    </tr>\n",
       "    <tr>\n",
       "      <th>Action</th>\n",
       "      <td>0.19</td>\n",
       "    </tr>\n",
       "  </tbody>\n",
       "</table>\n",
       "</div>"
      ],
      "text/plain": [
       "          total_sales\n",
       "genre                \n",
       "Platform         0.27\n",
       "Shooter          0.24\n",
       "Sports           0.22\n",
       "Fighting         0.21\n",
       "Action           0.19"
      ]
     },
     "execution_count": 66,
     "metadata": {},
     "output_type": "execute_result"
    }
   ],
   "source": [
    "#profit by main dataset\n",
    "df_genre= df_games.groupby('genre').agg({'total_sales':'median'})\n",
    "df_genre.sort_values('total_sales', ascending=False).head()"
   ]
  },
  {
   "cell_type": "markdown",
   "metadata": {},
   "source": [
    "It's worth noting that Action, Sport and Misc games are leading in terms of the number of games released. But Platform, Shooter and Sports genres are leading in terms of profit.<br>\n",
    "Now let's look at the distribution in a reduced sample from 2010."
   ]
  },
  {
   "cell_type": "code",
   "execution_count": 67,
   "metadata": {},
   "outputs": [
    {
     "data": {
      "image/png": "[encoded data removed]",
      "text/plain": [
       "<Figure size 936x360 with 1 Axes>"
      ]
     },
     "metadata": {
      "needs_background": "light"
     },
     "output_type": "display_data"
    }
   ],
   "source": [
    "#histogram by reduced sample\n",
    "df_final['genre'].hist(figsize=(13,5), color='green', bins=12);"
   ]
  },
  {
   "cell_type": "code",
   "execution_count": 68,
   "metadata": {},
   "outputs": [
    {
     "data": {
      "text/html": [
       "<div>\n",
       "<style scoped>\n",
       "    .dataframe tbody tr th:only-of-type {\n",
       "        vertical-align: middle;\n",
       "    }\n",
       "\n",
       "    .dataframe tbody tr th {\n",
       "        vertical-align: top;\n",
       "    }\n",
       "\n",
       "    .dataframe thead th {\n",
       "        text-align: right;\n",
       "    }\n",
       "</style>\n",
       "<table border=\"1\" class=\"dataframe\">\n",
       "  <thead>\n",
       "    <tr style=\"text-align: right;\">\n",
       "      <th></th>\n",
       "      <th>total_sales</th>\n",
       "    </tr>\n",
       "    <tr>\n",
       "      <th>genre</th>\n",
       "      <th></th>\n",
       "    </tr>\n",
       "  </thead>\n",
       "  <tbody>\n",
       "    <tr>\n",
       "      <th>Shooter</th>\n",
       "      <td>0.380</td>\n",
       "    </tr>\n",
       "    <tr>\n",
       "      <th>Platform</th>\n",
       "      <td>0.210</td>\n",
       "    </tr>\n",
       "    <tr>\n",
       "      <th>Sports</th>\n",
       "      <td>0.200</td>\n",
       "    </tr>\n",
       "    <tr>\n",
       "      <th>Fighting</th>\n",
       "      <td>0.180</td>\n",
       "    </tr>\n",
       "    <tr>\n",
       "      <th>Racing</th>\n",
       "      <td>0.165</td>\n",
       "    </tr>\n",
       "  </tbody>\n",
       "</table>\n",
       "</div>"
      ],
      "text/plain": [
       "          total_sales\n",
       "genre                \n",
       "Shooter         0.380\n",
       "Platform        0.210\n",
       "Sports          0.200\n",
       "Fighting        0.180\n",
       "Racing          0.165"
      ]
     },
     "execution_count": 68,
     "metadata": {},
     "output_type": "execute_result"
    }
   ],
   "source": [
    "#profit by reduced sample\n",
    "df_genre= df_final.groupby('genre').agg({'total_sales':'median'})\n",
    "df_genre.sort_values('total_sales', ascending=False).head()"
   ]
  },
  {
   "cell_type": "markdown",
   "metadata": {},
   "source": [
    "As we can see, Action, Sport and Misc games continue to lead by the number of games released, but Shooter, Platform and Sports genres bring income.\n",
    "\n",
    "The results obtained indicate two trends in the release of games for platforms and consoles - a large number of inexpensive games of a popular genre or a small number of games, but which bring a large income through content, advertising, etc."
   ]
  },
  {
   "cell_type": "markdown",
   "metadata": {},
   "source": [
    "### Conclusion.\n",
    "\n",
    "To summarize, we can say that we saw how the era of home video consoles began with devices, with a small number of games that brought significant income and led to the rapid development of this market. We have seen a trend towards an increase in the number of games produced, with a peak in 2008-2009. The undoubted star among consoles remains the PS2. Comparing the consoles, we saw that the lifespan of the console is an average of 7 years, of which a period of 5 years shows significant growth, peak sales and decline. We have determined that since 2010 there are about 10 video consoles on the market at the same time and the number of games on them is decreasing, but the profit is shown to be high, which means that sales within games have increased. <br>\n",
    "The data showed a weak correlation between sales and ratings from reviewers and users.<br>\n",
    "We have determined that, on average, game sales generate 283.4 million dollars and the bulk of revenue from games in the Shooter, Platform and Sports genres."
   ]
  },
  {
   "cell_type": "markdown",
   "metadata": {},
   "source": [
    "**A user profile for each region**\n",
    "\n",
    "For each region (NorthAmerica, Europe, Japan), determine:\n",
    "- The top five platforms."
   ]
  },
  {
   "cell_type": "code",
   "execution_count": 69,
   "metadata": {},
   "outputs": [
    {
     "data": {
      "image/png": "[encoded data removed]",
      "text/plain": [
       "<Figure size 936x288 with 1 Axes>"
      ]
     },
     "metadata": {
      "needs_background": "light"
     },
     "output_type": "display_data"
    }
   ],
   "source": [
    "#dataset for plotting\n",
    "df_profile= (\n",
    "    df_final\n",
    "    .groupby(['platform'])\n",
    "    .agg({'na_sales':'mean','eu_sales':'mean','jp_sales':'mean'})\n",
    ")\n",
    "#rename columns\n",
    "df_profile.columns= ['NorthAmerica','Europe','Japan']\n",
    "#plotting\n",
    "#profiles of regions\n",
    "df_profile.plot(kind='bar', title='Statistics by total game sales', figsize=(13, 4), position=0,  width=0.8);"
   ]
  },
  {
   "cell_type": "markdown",
   "metadata": {},
   "source": [
    "The top five platforms:<br>\n",
    "NorthAmerica - X360, PS3, Wii, PS4, XOne<br> \n",
    "Europe - PS4, PS3, X360, Wii, XOne<br>\n",
    "Japan - 3DS, PSP, PS3, DS, Wii\n",
    "\n",
    "The distribution chart shows that the popularity of consoles in Japan differs from that in Europe and North America.\n",
    "\n",
    "- The top five genres"
   ]
  },
  {
   "cell_type": "code",
   "execution_count": 70,
   "metadata": {},
   "outputs": [],
   "source": [
    "#dataset for plotting\n",
    "#profiles by regions\n",
    "df_na= df_final[df_final['na_sales']>0].groupby(['genre']).agg({'na_sales':'count'})\n",
    "df_eu= df_final[df_final['eu_sales']>0].groupby(['genre']).agg({'eu_sales':'count'})\n",
    "df_jp= df_final[df_final['jp_sales']>0].groupby(['genre']).agg({'jp_sales':'count'})\n",
    "#merge regions\n",
    "df_profile = df_na.merge(df_eu, left_index=True, right_index=True, how='outer')\n",
    "df_profile = df_profile.merge(df_jp, left_index=True, right_index=True, how='outer')\n",
    "#rename columns\n",
    "df_profile.columns= ['NorthAmerica','Europe','Japan']\n",
    "#mean\n",
    "df_profile = df_profile/df_final.shape[0]"
   ]
  },
  {
   "cell_type": "code",
   "execution_count": 71,
   "metadata": {},
   "outputs": [
    {
     "data": {
      "text/html": [
       "<div>\n",
       "<style scoped>\n",
       "    .dataframe tbody tr th:only-of-type {\n",
       "        vertical-align: middle;\n",
       "    }\n",
       "\n",
       "    .dataframe tbody tr th {\n",
       "        vertical-align: top;\n",
       "    }\n",
       "\n",
       "    .dataframe thead th {\n",
       "        text-align: right;\n",
       "    }\n",
       "</style>\n",
       "<table border=\"1\" class=\"dataframe\">\n",
       "  <thead>\n",
       "    <tr style=\"text-align: right;\">\n",
       "      <th></th>\n",
       "      <th>NorthAmerica</th>\n",
       "    </tr>\n",
       "    <tr>\n",
       "      <th>genre</th>\n",
       "      <th></th>\n",
       "    </tr>\n",
       "  </thead>\n",
       "  <tbody>\n",
       "    <tr>\n",
       "      <th>Action</th>\n",
       "      <td>0.183612</td>\n",
       "    </tr>\n",
       "    <tr>\n",
       "      <th>Sports</th>\n",
       "      <td>0.077805</td>\n",
       "    </tr>\n",
       "    <tr>\n",
       "      <th>Misc</th>\n",
       "      <td>0.070288</td>\n",
       "    </tr>\n",
       "    <tr>\n",
       "      <th>Shooter</th>\n",
       "      <td>0.070100</td>\n",
       "    </tr>\n",
       "    <tr>\n",
       "      <th>Role-Playing</th>\n",
       "      <td>0.055441</td>\n",
       "    </tr>\n",
       "  </tbody>\n",
       "</table>\n",
       "</div>"
      ],
      "text/plain": [
       "              NorthAmerica\n",
       "genre                     \n",
       "Action            0.183612\n",
       "Sports            0.077805\n",
       "Misc              0.070288\n",
       "Shooter           0.070100\n",
       "Role-Playing      0.055441"
      ]
     },
     "execution_count": 71,
     "metadata": {},
     "output_type": "execute_result"
    }
   ],
   "source": [
    "df_profile.sort_values('NorthAmerica', ascending=False)[['NorthAmerica']].head()"
   ]
  },
  {
   "cell_type": "code",
   "execution_count": 72,
   "metadata": {},
   "outputs": [
    {
     "data": {
      "text/html": [
       "<div>\n",
       "<style scoped>\n",
       "    .dataframe tbody tr th:only-of-type {\n",
       "        vertical-align: middle;\n",
       "    }\n",
       "\n",
       "    .dataframe tbody tr th {\n",
       "        vertical-align: top;\n",
       "    }\n",
       "\n",
       "    .dataframe thead th {\n",
       "        text-align: right;\n",
       "    }\n",
       "</style>\n",
       "<table border=\"1\" class=\"dataframe\">\n",
       "  <thead>\n",
       "    <tr style=\"text-align: right;\">\n",
       "      <th></th>\n",
       "      <th>Europe</th>\n",
       "    </tr>\n",
       "    <tr>\n",
       "      <th>genre</th>\n",
       "      <th></th>\n",
       "    </tr>\n",
       "  </thead>\n",
       "  <tbody>\n",
       "    <tr>\n",
       "      <th>Action</th>\n",
       "      <td>0.190566</td>\n",
       "    </tr>\n",
       "    <tr>\n",
       "      <th>Sports</th>\n",
       "      <td>0.072919</td>\n",
       "    </tr>\n",
       "    <tr>\n",
       "      <th>Shooter</th>\n",
       "      <td>0.067093</td>\n",
       "    </tr>\n",
       "    <tr>\n",
       "      <th>Misc</th>\n",
       "      <td>0.058636</td>\n",
       "    </tr>\n",
       "    <tr>\n",
       "      <th>Role-Playing</th>\n",
       "      <td>0.053749</td>\n",
       "    </tr>\n",
       "  </tbody>\n",
       "</table>\n",
       "</div>"
      ],
      "text/plain": [
       "                Europe\n",
       "genre                 \n",
       "Action        0.190566\n",
       "Sports        0.072919\n",
       "Shooter       0.067093\n",
       "Misc          0.058636\n",
       "Role-Playing  0.053749"
      ]
     },
     "execution_count": 72,
     "metadata": {},
     "output_type": "execute_result"
    }
   ],
   "source": [
    "df_profile.sort_values('Europe', ascending=False)[['Europe']].head()"
   ]
  },
  {
   "cell_type": "code",
   "execution_count": 73,
   "metadata": {},
   "outputs": [
    {
     "data": {
      "text/html": [
       "<div>\n",
       "<style scoped>\n",
       "    .dataframe tbody tr th:only-of-type {\n",
       "        vertical-align: middle;\n",
       "    }\n",
       "\n",
       "    .dataframe tbody tr th {\n",
       "        vertical-align: top;\n",
       "    }\n",
       "\n",
       "    .dataframe thead th {\n",
       "        text-align: right;\n",
       "    }\n",
       "</style>\n",
       "<table border=\"1\" class=\"dataframe\">\n",
       "  <thead>\n",
       "    <tr style=\"text-align: right;\">\n",
       "      <th></th>\n",
       "      <th>Japan</th>\n",
       "    </tr>\n",
       "    <tr>\n",
       "      <th>genre</th>\n",
       "      <th></th>\n",
       "    </tr>\n",
       "  </thead>\n",
       "  <tbody>\n",
       "    <tr>\n",
       "      <th>Action</th>\n",
       "      <td>0.138320</td>\n",
       "    </tr>\n",
       "    <tr>\n",
       "      <th>Role-Playing</th>\n",
       "      <td>0.086074</td>\n",
       "    </tr>\n",
       "    <tr>\n",
       "      <th>Adventure</th>\n",
       "      <td>0.072543</td>\n",
       "    </tr>\n",
       "    <tr>\n",
       "      <th>Misc</th>\n",
       "      <td>0.037023</td>\n",
       "    </tr>\n",
       "    <tr>\n",
       "      <th>Shooter</th>\n",
       "      <td>0.030821</td>\n",
       "    </tr>\n",
       "  </tbody>\n",
       "</table>\n",
       "</div>"
      ],
      "text/plain": [
       "                 Japan\n",
       "genre                 \n",
       "Action        0.138320\n",
       "Role-Playing  0.086074\n",
       "Adventure     0.072543\n",
       "Misc          0.037023\n",
       "Shooter       0.030821"
      ]
     },
     "execution_count": 73,
     "metadata": {},
     "output_type": "execute_result"
    }
   ],
   "source": [
    "df_profile.sort_values('Japan', ascending=False)[['Japan']].head()"
   ]
  },
  {
   "cell_type": "code",
   "execution_count": 74,
   "metadata": {},
   "outputs": [
    {
     "data": {
      "image/png": "[encoded data removed]",
      "text/plain": [
       "<Figure size 936x288 with 1 Axes>"
      ]
     },
     "metadata": {
      "needs_background": "light"
     },
     "output_type": "display_data"
    }
   ],
   "source": [
    "##plotting\n",
    "#profiles of regions\n",
    "df_profile.plot(kind='bar', title='Statistics by genres', figsize=(13, 4), position=0,  width=0.8);"
   ]
  },
  {
   "cell_type": "markdown",
   "metadata": {},
   "source": [
    "The chart shows that North America and Europe are in step with each other. Japan joins them in the Action genre, but at the same time prefers Role-Playing and Adventure genres more and Sport genre less.\n",
    "\n",
    "- Do ESRB ratings affect sales in individual regions?"
   ]
  },
  {
   "cell_type": "code",
   "execution_count": 75,
   "metadata": {},
   "outputs": [
    {
     "data": {
      "image/png": "[encoded data removed]",
      "text/plain": [
       "<Figure size 648x288 with 1 Axes>"
      ]
     },
     "metadata": {
      "needs_background": "light"
     },
     "output_type": "display_data"
    }
   ],
   "source": [
    "#dataset for plotting\n",
    "df_profile= (\n",
    "    df_final\n",
    "    .groupby(['rating'])\n",
    "    .agg({'na_sales':'mean','eu_sales':'mean','jp_sales':'mean'})\n",
    ")\n",
    "#rename columns\n",
    "df_profile.columns= ['NorthAmerica','Europe','Japan']\n",
    "#plotting\n",
    "#profiles of regions\n",
    "df_profile.plot(kind='bar', title='Statistics by ESRB ratings', figsize=(9, 4), position=0,  width=0.8);"
   ]
  },
  {
   "cell_type": "markdown",
   "metadata": {},
   "source": [
    "The Entertainment Software Rating Board assigns an age rating to games. Our chart shows that M (Mature 17+) rank games generated the highest revenue in North America and Europe. In Japan, T (Teen) and E (Everyone) games are more profitable.\n",
    "\n",
    "Conclusion.\n",
    "\n",
    "The region profiles showed different behavioral trends. However, Europe and America more often have similar patterns among themselves than with Japan."
   ]
  },
  {
   "cell_type": "markdown",
   "metadata": {},
   "source": [
    "## Part 3. Test hypotheses. <a class=\"anchor\" id=\"Part_3\"></a>\n",
    "[Go back to the Contents](#contents)\n",
    "\n",
    "*Hypothesis test 1*\n",
    "\n",
    "The null hypothesis H₀ is always stated with an equal sign, so:<br>\n",
    "H₀ - the average user ratings of the Xbox One and PC platforms are equal.\n",
    "\n",
    "The alternative hypothesis, H₁, is based on H₀, so:<br>\n",
    "H₁ - the average user ratings of the Xbox One and PC platforms are differ.\n",
    "\n",
    "The significant level = 0.05\n",
    "\n",
    "In order to test a hypothesis that the means of the two statistical populations are equal based on samples taken from them, we will apply a scipy.stats.ttest_ind method. This is a two-sided test for the null hypothesis that 2 independent samples have identical average (expected) values."
   ]
  },
  {
   "cell_type": "code",
   "execution_count": 76,
   "metadata": {},
   "outputs": [],
   "source": [
    "def ttest(sample_1, sample_2):\n",
    "    alpha = .05 #The significant level\n",
    "\n",
    "    results = st.ttest_ind(\n",
    "            sample_1, \n",
    "            sample_2,\n",
    "            equal_var=False #perform Welch’s t-test\n",
    "    )\n",
    "\n",
    "    #if the p-value is less than alpha, we reject the hypothesis\n",
    "    print('p-value: ', results.pvalue)\n",
    " \n",
    "    if (results.pvalue < alpha):\n",
    "        print(\"We reject the null hypothesis\")\n",
    "    else:\n",
    "        print(\"We can't reject the null hypothesis\")"
   ]
  },
  {
   "cell_type": "code",
   "execution_count": 77,
   "metadata": {},
   "outputs": [
    {
     "name": "stdout",
     "output_type": "stream",
     "text": [
      "p-value:  4.953353974843672e-06\n",
      "We reject the null hypothesis\n"
     ]
    }
   ],
   "source": [
    "#Average user ratings of the Xbox One\n",
    "list_1 = df_games.loc[((df_games['platform']=='XOne')&(df_games['n_user_score']>0))]['n_user_score'].tolist()\n",
    "#Average user ratings of the PC\n",
    "list_2 = df_games.loc[((df_games['platform']=='PC')&(df_games['n_user_score']>0))]['n_user_score'].tolist()\n",
    "ttest( list_1, list_2)"
   ]
  },
  {
   "cell_type": "markdown",
   "metadata": {},
   "source": [
    "The p-value shows less than 1% probability of a null hypothesis.<br>\n",
    "Let's check our results."
   ]
  },
  {
   "cell_type": "code",
   "execution_count": 78,
   "metadata": {},
   "outputs": [
    {
     "name": "stdout",
     "output_type": "stream",
     "text": [
      "Mean of user rating\n",
      "XOne console: 6.653986903449379\n",
      "PC console  : 7.082601383229433\n"
     ]
    }
   ],
   "source": [
    "print('Mean of user rating')\n",
    "print('XOne console:'\n",
    "      , df_games.loc[((df_games['platform']=='XOne')&(df_games['n_user_score']>0))]['n_user_score'].mean())\n",
    "print('PC console  :'\n",
    "      , df_games.loc[((df_games['platform']=='PC')&(df_games['n_user_score']>0))]['n_user_score'].mean())"
   ]
  },
  {
   "cell_type": "markdown",
   "metadata": {},
   "source": [
    "*Hypothesis test 2*\n",
    "\n",
    "The null hypothesis H₀ is always stated with an equal sign, so:<br>\n",
    "H₀ - the average user rating for the Action and Sports genres are equal.\n",
    "\n",
    "The alternative hypothesis, H₁, is based on H₀, so:<br>\n",
    "H₁ - the average user rating for the Action and Sports genres are differ.\n",
    "\n",
    "The significant level = 0.05\n",
    "\n",
    "We will apply a scipy.stats.ttest_ind method here as well."
   ]
  },
  {
   "cell_type": "code",
   "execution_count": 79,
   "metadata": {},
   "outputs": [
    {
     "name": "stdout",
     "output_type": "stream",
     "text": [
      "p-value:  0.3123036283560416\n",
      "We can't reject the null hypothesis\n"
     ]
    }
   ],
   "source": [
    "#the average user rating for the Action\n",
    "list_1 = df_games.loc[((df_games['genre']=='Action')&(df_games['n_user_score']>0))]['n_user_score'].tolist()\n",
    "#the average user rating for the Sports\n",
    "list_2 = df_games.loc[((df_games['genre']=='Sports')&(df_games['n_user_score']>0))]['n_user_score'].tolist()\n",
    "ttest( list_1, list_2)"
   ]
  },
  {
   "cell_type": "markdown",
   "metadata": {},
   "source": [
    "The p-value shows 31% probability of a null hypothesis.<br>\n",
    "Let's check our results."
   ]
  },
  {
   "cell_type": "code",
   "execution_count": 80,
   "metadata": {},
   "outputs": [
    {
     "name": "stdout",
     "output_type": "stream",
     "text": [
      "Mean of user rating\n",
      "Action genre: 7.046899371527939\n",
      "Sports genre: 7.08131519551426\n"
     ]
    }
   ],
   "source": [
    "print('Mean of user rating')\n",
    "print('Action genre:'\n",
    "      , df_games.loc[((df_games['genre']=='Action')&(df_games['n_user_score']>0))]['n_user_score'].mean())\n",
    "print('Sports genre:'\n",
    "      , df_games.loc[((df_games['genre']=='Sports')&(df_games['n_user_score']>0))]['n_user_score'].mean())"
   ]
  },
  {
   "cell_type": "markdown",
   "metadata": {},
   "source": [
    "## General conclusion<a class=\"anchor\" id=\"General_conclusion\"></a>\n",
    "[Go back to the Contents](#contents)\n",
    "\n",
    "This book provides an analysis of historical data for gaming on home video consoles and platforms. The data is collected from open source, therefore it has a large amount of missing data.\n",
    "For the most part, data has been saved, missing values have been filled in, and anomalous values have been deleted.\n",
    "The dataset contains historical data and the skewed data distribution, so the median is often used in calculations.\n",
    "\n",
    "This book provides an analysis of historical data for gaming on home video consoles and platforms. The data is collected from open source, therefore it has a large amount of missing data.<br>\n",
    "For the most part, data has been saved, missing values have been filled in, and anomalous values have been deleted.<br>\n",
    "The dataset contains historical data and the skewed data distribution, so the median is often used in calculations.\n",
    "\n",
    "Analysis showed that when planning to launch a new console, consider the following:\n",
    "- The average console life cycle is 7 years. A successful strategy was to release a new version of the console at the end of this period.\n",
    "- The average time of active sales and maximum profit is 5 years.\n",
    "- For successful sales, it is reasonable to provide a sufficient number of games on the console and use in-game sales\n",
    "- When planning games, it is necessary to take into account the popular genres that bring the greatest income - Platform, Shooter, Sports, Action. In this case, it is necessary to take into account the region of the game being launched. Role-Playing and Adventure games are relevant for Japan.\n",
    "- When certifying according to ESRB, you need to keep in mind that games with rank M (Mature 17+) for Europe and America and E (Everyone) and T (Teen) for Japan bring more income.\n",
    "- Game user ratings have little impact on sales. The rating of the reviewers influences sales to a greater extent, but also insignificantly."
   ]
  }
 ],
 "metadata": {
  "kernelspec": {
   "display_name": "Python 3",
   "language": "python",
   "name": "python3"
  },
  "language_info": {
   "codemirror_mode": {
    "name": "ipython",
    "version": 3
   },
   "file_extension": ".py",
   "mimetype": "text/x-python",
   "name": "python",
   "nbconvert_exporter": "python",
   "pygments_lexer": "ipython3",
   "version": "3.7.9"
  },
  "toc": {
   "base_numbering": 1,
   "nav_menu": {},
   "number_sections": true,
   "sideBar": true,
   "skip_h1_title": false,
   "title_cell": "Table of Contents",
   "title_sidebar": "Contents",
   "toc_cell": false,
   "toc_position": {},
   "toc_section_display": true,
   "toc_window_display": false
  }
 },
 "nbformat": 4,
 "nbformat_minor": 4
}
